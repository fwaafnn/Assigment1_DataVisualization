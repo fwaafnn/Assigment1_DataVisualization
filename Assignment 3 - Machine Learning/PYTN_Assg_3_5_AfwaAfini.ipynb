{
 "cells": [
  {
   "cell_type": "markdown",
   "metadata": {},
   "source": [
    "## Afwa Afini | PYTN-KS20-018"
   ]
  },
  {
   "cell_type": "markdown",
   "metadata": {},
   "source": [
    "### Introduction\n",
    "This task 3 implements an understanding of supervised machine learning in Python. The data to be used is the Bank Marketing Dataset taken from the UCI Machine Learning Repository. The data is related to a direct marketing campaign of a Portuguese banking institution. The marketing campaign for a term deposit subscription is based on phone calls.\n",
    "\n",
    "There are four datasets:\n",
    "1. bank-additional-full.csv\n",
    "2. bank_additional.csv\n",
    "3. bank-full.csv\n",
    "4. bank.csv\n",
    "\n",
    "<br>link dataset: https://archive.ics.uci.edu/dataset/222/bank+marketing"
   ]
  },
  {
   "cell_type": "markdown",
   "metadata": {},
   "source": [
    "### Importing Libraries"
   ]
  },
  {
   "cell_type": "code",
   "execution_count": 76,
   "metadata": {},
   "outputs": [],
   "source": [
    "import pandas as pd\n",
    "import numpy as np\n",
    "import matplotlib.pyplot as plt\n",
    "import seaborn as sns\n",
    "\n",
    "from sklearn.linear_model import LogisticRegression\n",
    "from sklearn.neighbors import KNeighborsClassifier\n",
    "from sklearn.naive_bayes import GaussianNB\n",
    "from sklearn.tree import DecisionTreeClassifier\n",
    "from sklearn.ensemble import RandomForestClassifier\n",
    "from sklearn import svm\n",
    "\n",
    "from sklearn.model_selection import train_test_split\n",
    "from sklearn.preprocessing import LabelEncoder, OneHotEncoder, StandardScaler\n",
    "from sklearn.metrics import accuracy_score ,classification_report, confusion_matrix\n"
   ]
  },
  {
   "cell_type": "code",
   "execution_count": 74,
   "metadata": {},
   "outputs": [],
   "source": [
    "# To hide the warning\n",
    "import warnings\n",
    "\n",
    "warnings.filterwarnings(\"ignore\", category=FutureWarning)\n",
    "warnings.filterwarnings(\"ignore\", category=UserWarning)"
   ]
  },
  {
   "cell_type": "markdown",
   "metadata": {},
   "source": [
    "### Data Preprocessing & EDA"
   ]
  },
  {
   "cell_type": "code",
   "execution_count": 15,
   "metadata": {},
   "outputs": [],
   "source": [
    "# load the data sources\n",
    "bank_add_full = pd.read_csv('../dataset/bank-additional-full.csv', sep=';')\n",
    "bank_add = pd.read_csv('../dataset/bank-additional.csv', sep=';')\n",
    "bank = pd.read_csv('../dataset/bank.csv', sep=';')\n",
    "bank_full = pd.read_csv('../dataset/bank-full.csv', sep=';')"
   ]
  },
  {
   "cell_type": "code",
   "execution_count": 13,
   "metadata": {},
   "outputs": [
    {
     "name": "stdout",
     "output_type": "stream",
     "text": [
      "[ True  True  True  True  True  True  True  True  True  True  True  True\n",
      "  True  True  True  True  True  True  True  True  True]\n"
     ]
    }
   ],
   "source": [
    "print((bank_add_full.columns == bank_add.columns))"
   ]
  },
  {
   "cell_type": "code",
   "execution_count": 23,
   "metadata": {},
   "outputs": [
    {
     "name": "stdout",
     "output_type": "stream",
     "text": [
      "[ True  True  True  True  True  True  True  True  True  True  True  True\n",
      "  True  True  True  True  True]\n"
     ]
    }
   ],
   "source": [
    "print((bank_full.columns == bank.columns))"
   ]
  },
  {
   "cell_type": "code",
   "execution_count": 8,
   "metadata": {},
   "outputs": [
    {
     "data": {
      "text/html": [
       "<div>\n",
       "<style scoped>\n",
       "    .dataframe tbody tr th:only-of-type {\n",
       "        vertical-align: middle;\n",
       "    }\n",
       "\n",
       "    .dataframe tbody tr th {\n",
       "        vertical-align: top;\n",
       "    }\n",
       "\n",
       "    .dataframe thead th {\n",
       "        text-align: right;\n",
       "    }\n",
       "</style>\n",
       "<table border=\"1\" class=\"dataframe\">\n",
       "  <thead>\n",
       "    <tr style=\"text-align: right;\">\n",
       "      <th></th>\n",
       "      <th>age</th>\n",
       "      <th>job</th>\n",
       "      <th>marital</th>\n",
       "      <th>education</th>\n",
       "      <th>default</th>\n",
       "      <th>housing</th>\n",
       "      <th>loan</th>\n",
       "      <th>contact</th>\n",
       "      <th>month</th>\n",
       "      <th>day_of_week</th>\n",
       "      <th>...</th>\n",
       "      <th>campaign</th>\n",
       "      <th>pdays</th>\n",
       "      <th>previous</th>\n",
       "      <th>poutcome</th>\n",
       "      <th>emp.var.rate</th>\n",
       "      <th>cons.price.idx</th>\n",
       "      <th>cons.conf.idx</th>\n",
       "      <th>euribor3m</th>\n",
       "      <th>nr.employed</th>\n",
       "      <th>y</th>\n",
       "    </tr>\n",
       "  </thead>\n",
       "  <tbody>\n",
       "    <tr>\n",
       "      <th>0</th>\n",
       "      <td>56</td>\n",
       "      <td>housemaid</td>\n",
       "      <td>married</td>\n",
       "      <td>basic.4y</td>\n",
       "      <td>no</td>\n",
       "      <td>no</td>\n",
       "      <td>no</td>\n",
       "      <td>telephone</td>\n",
       "      <td>may</td>\n",
       "      <td>mon</td>\n",
       "      <td>...</td>\n",
       "      <td>1</td>\n",
       "      <td>999</td>\n",
       "      <td>0</td>\n",
       "      <td>nonexistent</td>\n",
       "      <td>1.1</td>\n",
       "      <td>93.994</td>\n",
       "      <td>-36.4</td>\n",
       "      <td>4.857</td>\n",
       "      <td>5191.0</td>\n",
       "      <td>no</td>\n",
       "    </tr>\n",
       "    <tr>\n",
       "      <th>1</th>\n",
       "      <td>57</td>\n",
       "      <td>services</td>\n",
       "      <td>married</td>\n",
       "      <td>high.school</td>\n",
       "      <td>unknown</td>\n",
       "      <td>no</td>\n",
       "      <td>no</td>\n",
       "      <td>telephone</td>\n",
       "      <td>may</td>\n",
       "      <td>mon</td>\n",
       "      <td>...</td>\n",
       "      <td>1</td>\n",
       "      <td>999</td>\n",
       "      <td>0</td>\n",
       "      <td>nonexistent</td>\n",
       "      <td>1.1</td>\n",
       "      <td>93.994</td>\n",
       "      <td>-36.4</td>\n",
       "      <td>4.857</td>\n",
       "      <td>5191.0</td>\n",
       "      <td>no</td>\n",
       "    </tr>\n",
       "  </tbody>\n",
       "</table>\n",
       "<p>2 rows × 21 columns</p>\n",
       "</div>"
      ],
      "text/plain": [
       "   age        job  marital    education  default housing loan    contact  \\\n",
       "0   56  housemaid  married     basic.4y       no      no   no  telephone   \n",
       "1   57   services  married  high.school  unknown      no   no  telephone   \n",
       "\n",
       "  month day_of_week  ...  campaign  pdays  previous     poutcome emp.var.rate  \\\n",
       "0   may         mon  ...         1    999         0  nonexistent          1.1   \n",
       "1   may         mon  ...         1    999         0  nonexistent          1.1   \n",
       "\n",
       "   cons.price.idx  cons.conf.idx  euribor3m  nr.employed   y  \n",
       "0          93.994          -36.4      4.857       5191.0  no  \n",
       "1          93.994          -36.4      4.857       5191.0  no  \n",
       "\n",
       "[2 rows x 21 columns]"
      ]
     },
     "execution_count": 8,
     "metadata": {},
     "output_type": "execute_result"
    }
   ],
   "source": [
    "# View the first 2 data\n",
    "bank_add_full.head(2)"
   ]
  },
  {
   "cell_type": "code",
   "execution_count": 9,
   "metadata": {},
   "outputs": [
    {
     "data": {
      "text/html": [
       "<div>\n",
       "<style scoped>\n",
       "    .dataframe tbody tr th:only-of-type {\n",
       "        vertical-align: middle;\n",
       "    }\n",
       "\n",
       "    .dataframe tbody tr th {\n",
       "        vertical-align: top;\n",
       "    }\n",
       "\n",
       "    .dataframe thead th {\n",
       "        text-align: right;\n",
       "    }\n",
       "</style>\n",
       "<table border=\"1\" class=\"dataframe\">\n",
       "  <thead>\n",
       "    <tr style=\"text-align: right;\">\n",
       "      <th></th>\n",
       "      <th>age</th>\n",
       "      <th>job</th>\n",
       "      <th>marital</th>\n",
       "      <th>education</th>\n",
       "      <th>default</th>\n",
       "      <th>housing</th>\n",
       "      <th>loan</th>\n",
       "      <th>contact</th>\n",
       "      <th>month</th>\n",
       "      <th>day_of_week</th>\n",
       "      <th>...</th>\n",
       "      <th>campaign</th>\n",
       "      <th>pdays</th>\n",
       "      <th>previous</th>\n",
       "      <th>poutcome</th>\n",
       "      <th>emp.var.rate</th>\n",
       "      <th>cons.price.idx</th>\n",
       "      <th>cons.conf.idx</th>\n",
       "      <th>euribor3m</th>\n",
       "      <th>nr.employed</th>\n",
       "      <th>y</th>\n",
       "    </tr>\n",
       "  </thead>\n",
       "  <tbody>\n",
       "    <tr>\n",
       "      <th>0</th>\n",
       "      <td>30</td>\n",
       "      <td>blue-collar</td>\n",
       "      <td>married</td>\n",
       "      <td>basic.9y</td>\n",
       "      <td>no</td>\n",
       "      <td>yes</td>\n",
       "      <td>no</td>\n",
       "      <td>cellular</td>\n",
       "      <td>may</td>\n",
       "      <td>fri</td>\n",
       "      <td>...</td>\n",
       "      <td>2</td>\n",
       "      <td>999</td>\n",
       "      <td>0</td>\n",
       "      <td>nonexistent</td>\n",
       "      <td>-1.8</td>\n",
       "      <td>92.893</td>\n",
       "      <td>-46.2</td>\n",
       "      <td>1.313</td>\n",
       "      <td>5099.1</td>\n",
       "      <td>no</td>\n",
       "    </tr>\n",
       "    <tr>\n",
       "      <th>1</th>\n",
       "      <td>39</td>\n",
       "      <td>services</td>\n",
       "      <td>single</td>\n",
       "      <td>high.school</td>\n",
       "      <td>no</td>\n",
       "      <td>no</td>\n",
       "      <td>no</td>\n",
       "      <td>telephone</td>\n",
       "      <td>may</td>\n",
       "      <td>fri</td>\n",
       "      <td>...</td>\n",
       "      <td>4</td>\n",
       "      <td>999</td>\n",
       "      <td>0</td>\n",
       "      <td>nonexistent</td>\n",
       "      <td>1.1</td>\n",
       "      <td>93.994</td>\n",
       "      <td>-36.4</td>\n",
       "      <td>4.855</td>\n",
       "      <td>5191.0</td>\n",
       "      <td>no</td>\n",
       "    </tr>\n",
       "  </tbody>\n",
       "</table>\n",
       "<p>2 rows × 21 columns</p>\n",
       "</div>"
      ],
      "text/plain": [
       "   age          job  marital    education default housing loan    contact  \\\n",
       "0   30  blue-collar  married     basic.9y      no     yes   no   cellular   \n",
       "1   39     services   single  high.school      no      no   no  telephone   \n",
       "\n",
       "  month day_of_week  ...  campaign  pdays  previous     poutcome emp.var.rate  \\\n",
       "0   may         fri  ...         2    999         0  nonexistent         -1.8   \n",
       "1   may         fri  ...         4    999         0  nonexistent          1.1   \n",
       "\n",
       "   cons.price.idx  cons.conf.idx  euribor3m  nr.employed   y  \n",
       "0          92.893          -46.2      1.313       5099.1  no  \n",
       "1          93.994          -36.4      4.855       5191.0  no  \n",
       "\n",
       "[2 rows x 21 columns]"
      ]
     },
     "execution_count": 9,
     "metadata": {},
     "output_type": "execute_result"
    }
   ],
   "source": [
    "# View the first 2 data\n",
    "bank_add.head(2)"
   ]
  },
  {
   "cell_type": "code",
   "execution_count": 18,
   "metadata": {},
   "outputs": [
    {
     "data": {
      "text/html": [
       "<div>\n",
       "<style scoped>\n",
       "    .dataframe tbody tr th:only-of-type {\n",
       "        vertical-align: middle;\n",
       "    }\n",
       "\n",
       "    .dataframe tbody tr th {\n",
       "        vertical-align: top;\n",
       "    }\n",
       "\n",
       "    .dataframe thead th {\n",
       "        text-align: right;\n",
       "    }\n",
       "</style>\n",
       "<table border=\"1\" class=\"dataframe\">\n",
       "  <thead>\n",
       "    <tr style=\"text-align: right;\">\n",
       "      <th></th>\n",
       "      <th>age</th>\n",
       "      <th>job</th>\n",
       "      <th>marital</th>\n",
       "      <th>education</th>\n",
       "      <th>default</th>\n",
       "      <th>balance</th>\n",
       "      <th>housing</th>\n",
       "      <th>loan</th>\n",
       "      <th>contact</th>\n",
       "      <th>day</th>\n",
       "      <th>month</th>\n",
       "      <th>duration</th>\n",
       "      <th>campaign</th>\n",
       "      <th>pdays</th>\n",
       "      <th>previous</th>\n",
       "      <th>poutcome</th>\n",
       "      <th>y</th>\n",
       "    </tr>\n",
       "  </thead>\n",
       "  <tbody>\n",
       "    <tr>\n",
       "      <th>0</th>\n",
       "      <td>58</td>\n",
       "      <td>management</td>\n",
       "      <td>married</td>\n",
       "      <td>tertiary</td>\n",
       "      <td>no</td>\n",
       "      <td>2143</td>\n",
       "      <td>yes</td>\n",
       "      <td>no</td>\n",
       "      <td>unknown</td>\n",
       "      <td>5</td>\n",
       "      <td>may</td>\n",
       "      <td>261</td>\n",
       "      <td>1</td>\n",
       "      <td>-1</td>\n",
       "      <td>0</td>\n",
       "      <td>unknown</td>\n",
       "      <td>no</td>\n",
       "    </tr>\n",
       "    <tr>\n",
       "      <th>1</th>\n",
       "      <td>44</td>\n",
       "      <td>technician</td>\n",
       "      <td>single</td>\n",
       "      <td>secondary</td>\n",
       "      <td>no</td>\n",
       "      <td>29</td>\n",
       "      <td>yes</td>\n",
       "      <td>no</td>\n",
       "      <td>unknown</td>\n",
       "      <td>5</td>\n",
       "      <td>may</td>\n",
       "      <td>151</td>\n",
       "      <td>1</td>\n",
       "      <td>-1</td>\n",
       "      <td>0</td>\n",
       "      <td>unknown</td>\n",
       "      <td>no</td>\n",
       "    </tr>\n",
       "  </tbody>\n",
       "</table>\n",
       "</div>"
      ],
      "text/plain": [
       "   age         job  marital  education default  balance housing loan  contact  \\\n",
       "0   58  management  married   tertiary      no     2143     yes   no  unknown   \n",
       "1   44  technician   single  secondary      no       29     yes   no  unknown   \n",
       "\n",
       "   day month  duration  campaign  pdays  previous poutcome   y  \n",
       "0    5   may       261         1     -1         0  unknown  no  \n",
       "1    5   may       151         1     -1         0  unknown  no  "
      ]
     },
     "execution_count": 18,
     "metadata": {},
     "output_type": "execute_result"
    }
   ],
   "source": [
    "bank_full.head(2)"
   ]
  },
  {
   "cell_type": "code",
   "execution_count": 17,
   "metadata": {},
   "outputs": [
    {
     "data": {
      "text/html": [
       "<div>\n",
       "<style scoped>\n",
       "    .dataframe tbody tr th:only-of-type {\n",
       "        vertical-align: middle;\n",
       "    }\n",
       "\n",
       "    .dataframe tbody tr th {\n",
       "        vertical-align: top;\n",
       "    }\n",
       "\n",
       "    .dataframe thead th {\n",
       "        text-align: right;\n",
       "    }\n",
       "</style>\n",
       "<table border=\"1\" class=\"dataframe\">\n",
       "  <thead>\n",
       "    <tr style=\"text-align: right;\">\n",
       "      <th></th>\n",
       "      <th>age</th>\n",
       "      <th>job</th>\n",
       "      <th>marital</th>\n",
       "      <th>education</th>\n",
       "      <th>default</th>\n",
       "      <th>balance</th>\n",
       "      <th>housing</th>\n",
       "      <th>loan</th>\n",
       "      <th>contact</th>\n",
       "      <th>day</th>\n",
       "      <th>month</th>\n",
       "      <th>duration</th>\n",
       "      <th>campaign</th>\n",
       "      <th>pdays</th>\n",
       "      <th>previous</th>\n",
       "      <th>poutcome</th>\n",
       "      <th>y</th>\n",
       "    </tr>\n",
       "  </thead>\n",
       "  <tbody>\n",
       "    <tr>\n",
       "      <th>0</th>\n",
       "      <td>30</td>\n",
       "      <td>unemployed</td>\n",
       "      <td>married</td>\n",
       "      <td>primary</td>\n",
       "      <td>no</td>\n",
       "      <td>1787</td>\n",
       "      <td>no</td>\n",
       "      <td>no</td>\n",
       "      <td>cellular</td>\n",
       "      <td>19</td>\n",
       "      <td>oct</td>\n",
       "      <td>79</td>\n",
       "      <td>1</td>\n",
       "      <td>-1</td>\n",
       "      <td>0</td>\n",
       "      <td>unknown</td>\n",
       "      <td>no</td>\n",
       "    </tr>\n",
       "    <tr>\n",
       "      <th>1</th>\n",
       "      <td>33</td>\n",
       "      <td>services</td>\n",
       "      <td>married</td>\n",
       "      <td>secondary</td>\n",
       "      <td>no</td>\n",
       "      <td>4789</td>\n",
       "      <td>yes</td>\n",
       "      <td>yes</td>\n",
       "      <td>cellular</td>\n",
       "      <td>11</td>\n",
       "      <td>may</td>\n",
       "      <td>220</td>\n",
       "      <td>1</td>\n",
       "      <td>339</td>\n",
       "      <td>4</td>\n",
       "      <td>failure</td>\n",
       "      <td>no</td>\n",
       "    </tr>\n",
       "  </tbody>\n",
       "</table>\n",
       "</div>"
      ],
      "text/plain": [
       "   age         job  marital  education default  balance housing loan  \\\n",
       "0   30  unemployed  married    primary      no     1787      no   no   \n",
       "1   33    services  married  secondary      no     4789     yes  yes   \n",
       "\n",
       "    contact  day month  duration  campaign  pdays  previous poutcome   y  \n",
       "0  cellular   19   oct        79         1     -1         0  unknown  no  \n",
       "1  cellular   11   may       220         1    339         4  failure  no  "
      ]
     },
     "execution_count": 17,
     "metadata": {},
     "output_type": "execute_result"
    }
   ],
   "source": [
    "bank.head(2)"
   ]
  },
  {
   "cell_type": "code",
   "execution_count": 10,
   "metadata": {},
   "outputs": [
    {
     "name": "stdout",
     "output_type": "stream",
     "text": [
      "No same data in both datasets.\n"
     ]
    }
   ],
   "source": [
    "# check if there are similar records in these two datasets\n",
    "common_attributes = ['age', 'job', 'marital', 'education', 'default', 'housing', 'loan', 'contact', 'month', 'day_of_week', 'duration', 'campaign', 'pdays', 'previous', 'poutcome', 'emp.var.rate', 'cons.price.idx', 'cons.conf.idx', 'euribor3m', 'nr.employed', 'y']\n",
    "\n",
    "is_common_data = bank_add_full[common_attributes].isin(bank_add[common_attributes]).all(axis=1)\n",
    "\n",
    "if is_common_data.any():\n",
    "    print(\"There is the same data in both datasets.\")\n",
    "else:\n",
    "    print(\"No same data in both datasets.\")"
   ]
  },
  {
   "cell_type": "code",
   "execution_count": 24,
   "metadata": {},
   "outputs": [
    {
     "name": "stdout",
     "output_type": "stream",
     "text": [
      "No same data in both datasets.\n"
     ]
    }
   ],
   "source": [
    "# check if there are similar records in these two datasets\n",
    "common_attributes2 = ['age', 'job', 'marital', 'education', 'default', 'balance', 'housing', 'loan', 'contact', 'day', 'month', 'duration', 'campaign', 'pdays', 'previous', 'poutcome', 'y']\n",
    "\n",
    "is_common_data = bank_full[common_attributes2].isin(bank[common_attributes2]).all(axis=1)\n",
    "\n",
    "if is_common_data.any():\n",
    "    print(\"There is the same data in both datasets.\")\n",
    "else:\n",
    "    print(\"No same data in both datasets.\")"
   ]
  },
  {
   "cell_type": "code",
   "execution_count": 11,
   "metadata": {},
   "outputs": [
    {
     "name": "stdout",
     "output_type": "stream",
     "text": [
      "dataframe shape :  (41188, 21)\n",
      "check the missing values :  False\n",
      "<class 'pandas.core.frame.DataFrame'>\n",
      "RangeIndex: 41188 entries, 0 to 41187\n",
      "Data columns (total 21 columns):\n",
      " #   Column          Non-Null Count  Dtype  \n",
      "---  ------          --------------  -----  \n",
      " 0   age             41188 non-null  int64  \n",
      " 1   job             41188 non-null  object \n",
      " 2   marital         41188 non-null  object \n",
      " 3   education       41188 non-null  object \n",
      " 4   default         41188 non-null  object \n",
      " 5   housing         41188 non-null  object \n",
      " 6   loan            41188 non-null  object \n",
      " 7   contact         41188 non-null  object \n",
      " 8   month           41188 non-null  object \n",
      " 9   day_of_week     41188 non-null  object \n",
      " 10  duration        41188 non-null  int64  \n",
      " 11  campaign        41188 non-null  int64  \n",
      " 12  pdays           41188 non-null  int64  \n",
      " 13  previous        41188 non-null  int64  \n",
      " 14  poutcome        41188 non-null  object \n",
      " 15  emp.var.rate    41188 non-null  float64\n",
      " 16  cons.price.idx  41188 non-null  float64\n",
      " 17  cons.conf.idx   41188 non-null  float64\n",
      " 18  euribor3m       41188 non-null  float64\n",
      " 19  nr.employed     41188 non-null  float64\n",
      " 20  y               41188 non-null  object \n",
      "dtypes: float64(5), int64(5), object(11)\n",
      "memory usage: 6.6+ MB\n",
      "None\n"
     ]
    }
   ],
   "source": [
    "# Understanding the first dataset\n",
    "print('dataframe shape : ', bank_add_full.shape)\n",
    "print('check the missing values : ', bank_add_full.isna().values.any())\n",
    "print(bank_add_full.info())"
   ]
  },
  {
   "cell_type": "code",
   "execution_count": 12,
   "metadata": {},
   "outputs": [
    {
     "name": "stdout",
     "output_type": "stream",
     "text": [
      "dataframe shape :  (4119, 21)\n",
      "check the missing values :  False\n",
      "<class 'pandas.core.frame.DataFrame'>\n",
      "RangeIndex: 4119 entries, 0 to 4118\n",
      "Data columns (total 21 columns):\n",
      " #   Column          Non-Null Count  Dtype  \n",
      "---  ------          --------------  -----  \n",
      " 0   age             4119 non-null   int64  \n",
      " 1   job             4119 non-null   object \n",
      " 2   marital         4119 non-null   object \n",
      " 3   education       4119 non-null   object \n",
      " 4   default         4119 non-null   object \n",
      " 5   housing         4119 non-null   object \n",
      " 6   loan            4119 non-null   object \n",
      " 7   contact         4119 non-null   object \n",
      " 8   month           4119 non-null   object \n",
      " 9   day_of_week     4119 non-null   object \n",
      " 10  duration        4119 non-null   int64  \n",
      " 11  campaign        4119 non-null   int64  \n",
      " 12  pdays           4119 non-null   int64  \n",
      " 13  previous        4119 non-null   int64  \n",
      " 14  poutcome        4119 non-null   object \n",
      " 15  emp.var.rate    4119 non-null   float64\n",
      " 16  cons.price.idx  4119 non-null   float64\n",
      " 17  cons.conf.idx   4119 non-null   float64\n",
      " 18  euribor3m       4119 non-null   float64\n",
      " 19  nr.employed     4119 non-null   float64\n",
      " 20  y               4119 non-null   object \n",
      "dtypes: float64(5), int64(5), object(11)\n",
      "memory usage: 675.9+ KB\n",
      "None\n"
     ]
    }
   ],
   "source": [
    "# Understanding the second dataset\n",
    "print('dataframe shape : ', bank_add.shape)\n",
    "print('check the missing values : ', bank_add.isna().values.any())\n",
    "print(bank_add.info())"
   ]
  },
  {
   "cell_type": "code",
   "execution_count": 22,
   "metadata": {},
   "outputs": [
    {
     "name": "stdout",
     "output_type": "stream",
     "text": [
      "dataframe shape :  (45211, 17)\n",
      "check the missing values :  False\n",
      "<class 'pandas.core.frame.DataFrame'>\n",
      "RangeIndex: 45211 entries, 0 to 45210\n",
      "Data columns (total 17 columns):\n",
      " #   Column     Non-Null Count  Dtype \n",
      "---  ------     --------------  ----- \n",
      " 0   age        45211 non-null  int64 \n",
      " 1   job        45211 non-null  object\n",
      " 2   marital    45211 non-null  object\n",
      " 3   education  45211 non-null  object\n",
      " 4   default    45211 non-null  object\n",
      " 5   balance    45211 non-null  int64 \n",
      " 6   housing    45211 non-null  object\n",
      " 7   loan       45211 non-null  object\n",
      " 8   contact    45211 non-null  object\n",
      " 9   day        45211 non-null  int64 \n",
      " 10  month      45211 non-null  object\n",
      " 11  duration   45211 non-null  int64 \n",
      " 12  campaign   45211 non-null  int64 \n",
      " 13  pdays      45211 non-null  int64 \n",
      " 14  previous   45211 non-null  int64 \n",
      " 15  poutcome   45211 non-null  object\n",
      " 16  y          45211 non-null  object\n",
      "dtypes: int64(7), object(10)\n",
      "memory usage: 5.9+ MB\n",
      "None\n"
     ]
    }
   ],
   "source": [
    "# Understanding the third dataset\n",
    "print('dataframe shape : ', bank_full.shape)\n",
    "print('check the missing values : ', bank_full.isna().values.any())\n",
    "print(bank_full.info())"
   ]
  },
  {
   "cell_type": "code",
   "execution_count": 21,
   "metadata": {},
   "outputs": [
    {
     "name": "stdout",
     "output_type": "stream",
     "text": [
      "dataframe shape :  (4521, 17)\n",
      "check the missing values :  False\n",
      "<class 'pandas.core.frame.DataFrame'>\n",
      "RangeIndex: 4521 entries, 0 to 4520\n",
      "Data columns (total 17 columns):\n",
      " #   Column     Non-Null Count  Dtype \n",
      "---  ------     --------------  ----- \n",
      " 0   age        4521 non-null   int64 \n",
      " 1   job        4521 non-null   object\n",
      " 2   marital    4521 non-null   object\n",
      " 3   education  4521 non-null   object\n",
      " 4   default    4521 non-null   object\n",
      " 5   balance    4521 non-null   int64 \n",
      " 6   housing    4521 non-null   object\n",
      " 7   loan       4521 non-null   object\n",
      " 8   contact    4521 non-null   object\n",
      " 9   day        4521 non-null   int64 \n",
      " 10  month      4521 non-null   object\n",
      " 11  duration   4521 non-null   int64 \n",
      " 12  campaign   4521 non-null   int64 \n",
      " 13  pdays      4521 non-null   int64 \n",
      " 14  previous   4521 non-null   int64 \n",
      " 15  poutcome   4521 non-null   object\n",
      " 16  y          4521 non-null   object\n",
      "dtypes: int64(7), object(10)\n",
      "memory usage: 600.6+ KB\n",
      "None\n"
     ]
    }
   ],
   "source": [
    "# Understanding the fourth dataset\n",
    "print('dataframe shape : ', bank.shape)\n",
    "print('check the missing values : ', bank.isna().values.any())\n",
    "print(bank.info())"
   ]
  },
  {
   "cell_type": "code",
   "execution_count": 13,
   "metadata": {},
   "outputs": [
    {
     "data": {
      "text/html": [
       "<div>\n",
       "<style scoped>\n",
       "    .dataframe tbody tr th:only-of-type {\n",
       "        vertical-align: middle;\n",
       "    }\n",
       "\n",
       "    .dataframe tbody tr th {\n",
       "        vertical-align: top;\n",
       "    }\n",
       "\n",
       "    .dataframe thead th {\n",
       "        text-align: right;\n",
       "    }\n",
       "</style>\n",
       "<table border=\"1\" class=\"dataframe\">\n",
       "  <thead>\n",
       "    <tr style=\"text-align: right;\">\n",
       "      <th></th>\n",
       "      <th>age</th>\n",
       "      <th>duration</th>\n",
       "      <th>campaign</th>\n",
       "      <th>pdays</th>\n",
       "      <th>previous</th>\n",
       "      <th>emp.var.rate</th>\n",
       "      <th>cons.price.idx</th>\n",
       "      <th>cons.conf.idx</th>\n",
       "      <th>euribor3m</th>\n",
       "      <th>nr.employed</th>\n",
       "    </tr>\n",
       "  </thead>\n",
       "  <tbody>\n",
       "    <tr>\n",
       "      <th>count</th>\n",
       "      <td>41188.00000</td>\n",
       "      <td>41188.000000</td>\n",
       "      <td>41188.000000</td>\n",
       "      <td>41188.000000</td>\n",
       "      <td>41188.000000</td>\n",
       "      <td>41188.000000</td>\n",
       "      <td>41188.000000</td>\n",
       "      <td>41188.000000</td>\n",
       "      <td>41188.000000</td>\n",
       "      <td>41188.000000</td>\n",
       "    </tr>\n",
       "    <tr>\n",
       "      <th>mean</th>\n",
       "      <td>40.02406</td>\n",
       "      <td>258.285010</td>\n",
       "      <td>2.567593</td>\n",
       "      <td>962.475454</td>\n",
       "      <td>0.172963</td>\n",
       "      <td>0.081886</td>\n",
       "      <td>93.575664</td>\n",
       "      <td>-40.502600</td>\n",
       "      <td>3.621291</td>\n",
       "      <td>5167.035911</td>\n",
       "    </tr>\n",
       "    <tr>\n",
       "      <th>std</th>\n",
       "      <td>10.42125</td>\n",
       "      <td>259.279249</td>\n",
       "      <td>2.770014</td>\n",
       "      <td>186.910907</td>\n",
       "      <td>0.494901</td>\n",
       "      <td>1.570960</td>\n",
       "      <td>0.578840</td>\n",
       "      <td>4.628198</td>\n",
       "      <td>1.734447</td>\n",
       "      <td>72.251528</td>\n",
       "    </tr>\n",
       "    <tr>\n",
       "      <th>min</th>\n",
       "      <td>17.00000</td>\n",
       "      <td>0.000000</td>\n",
       "      <td>1.000000</td>\n",
       "      <td>0.000000</td>\n",
       "      <td>0.000000</td>\n",
       "      <td>-3.400000</td>\n",
       "      <td>92.201000</td>\n",
       "      <td>-50.800000</td>\n",
       "      <td>0.634000</td>\n",
       "      <td>4963.600000</td>\n",
       "    </tr>\n",
       "    <tr>\n",
       "      <th>25%</th>\n",
       "      <td>32.00000</td>\n",
       "      <td>102.000000</td>\n",
       "      <td>1.000000</td>\n",
       "      <td>999.000000</td>\n",
       "      <td>0.000000</td>\n",
       "      <td>-1.800000</td>\n",
       "      <td>93.075000</td>\n",
       "      <td>-42.700000</td>\n",
       "      <td>1.344000</td>\n",
       "      <td>5099.100000</td>\n",
       "    </tr>\n",
       "    <tr>\n",
       "      <th>50%</th>\n",
       "      <td>38.00000</td>\n",
       "      <td>180.000000</td>\n",
       "      <td>2.000000</td>\n",
       "      <td>999.000000</td>\n",
       "      <td>0.000000</td>\n",
       "      <td>1.100000</td>\n",
       "      <td>93.749000</td>\n",
       "      <td>-41.800000</td>\n",
       "      <td>4.857000</td>\n",
       "      <td>5191.000000</td>\n",
       "    </tr>\n",
       "    <tr>\n",
       "      <th>75%</th>\n",
       "      <td>47.00000</td>\n",
       "      <td>319.000000</td>\n",
       "      <td>3.000000</td>\n",
       "      <td>999.000000</td>\n",
       "      <td>0.000000</td>\n",
       "      <td>1.400000</td>\n",
       "      <td>93.994000</td>\n",
       "      <td>-36.400000</td>\n",
       "      <td>4.961000</td>\n",
       "      <td>5228.100000</td>\n",
       "    </tr>\n",
       "    <tr>\n",
       "      <th>max</th>\n",
       "      <td>98.00000</td>\n",
       "      <td>4918.000000</td>\n",
       "      <td>56.000000</td>\n",
       "      <td>999.000000</td>\n",
       "      <td>7.000000</td>\n",
       "      <td>1.400000</td>\n",
       "      <td>94.767000</td>\n",
       "      <td>-26.900000</td>\n",
       "      <td>5.045000</td>\n",
       "      <td>5228.100000</td>\n",
       "    </tr>\n",
       "  </tbody>\n",
       "</table>\n",
       "</div>"
      ],
      "text/plain": [
       "               age      duration      campaign         pdays      previous  \\\n",
       "count  41188.00000  41188.000000  41188.000000  41188.000000  41188.000000   \n",
       "mean      40.02406    258.285010      2.567593    962.475454      0.172963   \n",
       "std       10.42125    259.279249      2.770014    186.910907      0.494901   \n",
       "min       17.00000      0.000000      1.000000      0.000000      0.000000   \n",
       "25%       32.00000    102.000000      1.000000    999.000000      0.000000   \n",
       "50%       38.00000    180.000000      2.000000    999.000000      0.000000   \n",
       "75%       47.00000    319.000000      3.000000    999.000000      0.000000   \n",
       "max       98.00000   4918.000000     56.000000    999.000000      7.000000   \n",
       "\n",
       "       emp.var.rate  cons.price.idx  cons.conf.idx     euribor3m   nr.employed  \n",
       "count  41188.000000    41188.000000   41188.000000  41188.000000  41188.000000  \n",
       "mean       0.081886       93.575664     -40.502600      3.621291   5167.035911  \n",
       "std        1.570960        0.578840       4.628198      1.734447     72.251528  \n",
       "min       -3.400000       92.201000     -50.800000      0.634000   4963.600000  \n",
       "25%       -1.800000       93.075000     -42.700000      1.344000   5099.100000  \n",
       "50%        1.100000       93.749000     -41.800000      4.857000   5191.000000  \n",
       "75%        1.400000       93.994000     -36.400000      4.961000   5228.100000  \n",
       "max        1.400000       94.767000     -26.900000      5.045000   5228.100000  "
      ]
     },
     "execution_count": 13,
     "metadata": {},
     "output_type": "execute_result"
    }
   ],
   "source": [
    "# View summary of first dataset\n",
    "bank_add_full.describe()"
   ]
  },
  {
   "cell_type": "code",
   "execution_count": 79,
   "metadata": {},
   "outputs": [
    {
     "data": {
      "image/png": "[encoded data removed]",
      "text/plain": [
       "<Figure size 900x400 with 1 Axes>"
      ]
     },
     "metadata": {},
     "output_type": "display_data"
    }
   ],
   "source": [
    "# Box plot to see the distribution of each feature's value\n",
    "plt.figure(figsize=(9, 4))\n",
    "sns.boxplot(data=bank_add_full, orient=\"h\")\n",
    "plt.show()"
   ]
  },
  {
   "cell_type": "code",
   "execution_count": 14,
   "metadata": {},
   "outputs": [
    {
     "data": {
      "text/html": [
       "<div>\n",
       "<style scoped>\n",
       "    .dataframe tbody tr th:only-of-type {\n",
       "        vertical-align: middle;\n",
       "    }\n",
       "\n",
       "    .dataframe tbody tr th {\n",
       "        vertical-align: top;\n",
       "    }\n",
       "\n",
       "    .dataframe thead th {\n",
       "        text-align: right;\n",
       "    }\n",
       "</style>\n",
       "<table border=\"1\" class=\"dataframe\">\n",
       "  <thead>\n",
       "    <tr style=\"text-align: right;\">\n",
       "      <th></th>\n",
       "      <th>age</th>\n",
       "      <th>duration</th>\n",
       "      <th>campaign</th>\n",
       "      <th>pdays</th>\n",
       "      <th>previous</th>\n",
       "      <th>emp.var.rate</th>\n",
       "      <th>cons.price.idx</th>\n",
       "      <th>cons.conf.idx</th>\n",
       "      <th>euribor3m</th>\n",
       "      <th>nr.employed</th>\n",
       "    </tr>\n",
       "  </thead>\n",
       "  <tbody>\n",
       "    <tr>\n",
       "      <th>count</th>\n",
       "      <td>4119.000000</td>\n",
       "      <td>4119.000000</td>\n",
       "      <td>4119.000000</td>\n",
       "      <td>4119.000000</td>\n",
       "      <td>4119.000000</td>\n",
       "      <td>4119.000000</td>\n",
       "      <td>4119.000000</td>\n",
       "      <td>4119.000000</td>\n",
       "      <td>4119.000000</td>\n",
       "      <td>4119.000000</td>\n",
       "    </tr>\n",
       "    <tr>\n",
       "      <th>mean</th>\n",
       "      <td>40.113620</td>\n",
       "      <td>256.788055</td>\n",
       "      <td>2.537266</td>\n",
       "      <td>960.422190</td>\n",
       "      <td>0.190337</td>\n",
       "      <td>0.084972</td>\n",
       "      <td>93.579704</td>\n",
       "      <td>-40.499102</td>\n",
       "      <td>3.621356</td>\n",
       "      <td>5166.481695</td>\n",
       "    </tr>\n",
       "    <tr>\n",
       "      <th>std</th>\n",
       "      <td>10.313362</td>\n",
       "      <td>254.703736</td>\n",
       "      <td>2.568159</td>\n",
       "      <td>191.922786</td>\n",
       "      <td>0.541788</td>\n",
       "      <td>1.563114</td>\n",
       "      <td>0.579349</td>\n",
       "      <td>4.594578</td>\n",
       "      <td>1.733591</td>\n",
       "      <td>73.667904</td>\n",
       "    </tr>\n",
       "    <tr>\n",
       "      <th>min</th>\n",
       "      <td>18.000000</td>\n",
       "      <td>0.000000</td>\n",
       "      <td>1.000000</td>\n",
       "      <td>0.000000</td>\n",
       "      <td>0.000000</td>\n",
       "      <td>-3.400000</td>\n",
       "      <td>92.201000</td>\n",
       "      <td>-50.800000</td>\n",
       "      <td>0.635000</td>\n",
       "      <td>4963.600000</td>\n",
       "    </tr>\n",
       "    <tr>\n",
       "      <th>25%</th>\n",
       "      <td>32.000000</td>\n",
       "      <td>103.000000</td>\n",
       "      <td>1.000000</td>\n",
       "      <td>999.000000</td>\n",
       "      <td>0.000000</td>\n",
       "      <td>-1.800000</td>\n",
       "      <td>93.075000</td>\n",
       "      <td>-42.700000</td>\n",
       "      <td>1.334000</td>\n",
       "      <td>5099.100000</td>\n",
       "    </tr>\n",
       "    <tr>\n",
       "      <th>50%</th>\n",
       "      <td>38.000000</td>\n",
       "      <td>181.000000</td>\n",
       "      <td>2.000000</td>\n",
       "      <td>999.000000</td>\n",
       "      <td>0.000000</td>\n",
       "      <td>1.100000</td>\n",
       "      <td>93.749000</td>\n",
       "      <td>-41.800000</td>\n",
       "      <td>4.857000</td>\n",
       "      <td>5191.000000</td>\n",
       "    </tr>\n",
       "    <tr>\n",
       "      <th>75%</th>\n",
       "      <td>47.000000</td>\n",
       "      <td>317.000000</td>\n",
       "      <td>3.000000</td>\n",
       "      <td>999.000000</td>\n",
       "      <td>0.000000</td>\n",
       "      <td>1.400000</td>\n",
       "      <td>93.994000</td>\n",
       "      <td>-36.400000</td>\n",
       "      <td>4.961000</td>\n",
       "      <td>5228.100000</td>\n",
       "    </tr>\n",
       "    <tr>\n",
       "      <th>max</th>\n",
       "      <td>88.000000</td>\n",
       "      <td>3643.000000</td>\n",
       "      <td>35.000000</td>\n",
       "      <td>999.000000</td>\n",
       "      <td>6.000000</td>\n",
       "      <td>1.400000</td>\n",
       "      <td>94.767000</td>\n",
       "      <td>-26.900000</td>\n",
       "      <td>5.045000</td>\n",
       "      <td>5228.100000</td>\n",
       "    </tr>\n",
       "  </tbody>\n",
       "</table>\n",
       "</div>"
      ],
      "text/plain": [
       "               age     duration     campaign        pdays     previous  \\\n",
       "count  4119.000000  4119.000000  4119.000000  4119.000000  4119.000000   \n",
       "mean     40.113620   256.788055     2.537266   960.422190     0.190337   \n",
       "std      10.313362   254.703736     2.568159   191.922786     0.541788   \n",
       "min      18.000000     0.000000     1.000000     0.000000     0.000000   \n",
       "25%      32.000000   103.000000     1.000000   999.000000     0.000000   \n",
       "50%      38.000000   181.000000     2.000000   999.000000     0.000000   \n",
       "75%      47.000000   317.000000     3.000000   999.000000     0.000000   \n",
       "max      88.000000  3643.000000    35.000000   999.000000     6.000000   \n",
       "\n",
       "       emp.var.rate  cons.price.idx  cons.conf.idx    euribor3m  nr.employed  \n",
       "count   4119.000000     4119.000000    4119.000000  4119.000000  4119.000000  \n",
       "mean       0.084972       93.579704     -40.499102     3.621356  5166.481695  \n",
       "std        1.563114        0.579349       4.594578     1.733591    73.667904  \n",
       "min       -3.400000       92.201000     -50.800000     0.635000  4963.600000  \n",
       "25%       -1.800000       93.075000     -42.700000     1.334000  5099.100000  \n",
       "50%        1.100000       93.749000     -41.800000     4.857000  5191.000000  \n",
       "75%        1.400000       93.994000     -36.400000     4.961000  5228.100000  \n",
       "max        1.400000       94.767000     -26.900000     5.045000  5228.100000  "
      ]
     },
     "execution_count": 14,
     "metadata": {},
     "output_type": "execute_result"
    }
   ],
   "source": [
    "# View summary of second dataset\n",
    "bank_add.describe()"
   ]
  },
  {
   "cell_type": "code",
   "execution_count": 82,
   "metadata": {},
   "outputs": [
    {
     "data": {
      "image/png": "[encoded data removed]",
      "text/plain": [
       "<Figure size 900x400 with 1 Axes>"
      ]
     },
     "metadata": {},
     "output_type": "display_data"
    }
   ],
   "source": [
    "# Box plot to see the distribution of each feature's value\n",
    "plt.figure(figsize=(9, 4))\n",
    "sns.boxplot(data=bank_add, orient=\"h\")\n",
    "plt.show()"
   ]
  },
  {
   "cell_type": "code",
   "execution_count": 25,
   "metadata": {},
   "outputs": [
    {
     "data": {
      "text/html": [
       "<div>\n",
       "<style scoped>\n",
       "    .dataframe tbody tr th:only-of-type {\n",
       "        vertical-align: middle;\n",
       "    }\n",
       "\n",
       "    .dataframe tbody tr th {\n",
       "        vertical-align: top;\n",
       "    }\n",
       "\n",
       "    .dataframe thead th {\n",
       "        text-align: right;\n",
       "    }\n",
       "</style>\n",
       "<table border=\"1\" class=\"dataframe\">\n",
       "  <thead>\n",
       "    <tr style=\"text-align: right;\">\n",
       "      <th></th>\n",
       "      <th>age</th>\n",
       "      <th>balance</th>\n",
       "      <th>day</th>\n",
       "      <th>duration</th>\n",
       "      <th>campaign</th>\n",
       "      <th>pdays</th>\n",
       "      <th>previous</th>\n",
       "    </tr>\n",
       "  </thead>\n",
       "  <tbody>\n",
       "    <tr>\n",
       "      <th>count</th>\n",
       "      <td>45211.000000</td>\n",
       "      <td>45211.000000</td>\n",
       "      <td>45211.000000</td>\n",
       "      <td>45211.000000</td>\n",
       "      <td>45211.000000</td>\n",
       "      <td>45211.000000</td>\n",
       "      <td>45211.000000</td>\n",
       "    </tr>\n",
       "    <tr>\n",
       "      <th>mean</th>\n",
       "      <td>40.936210</td>\n",
       "      <td>1362.272058</td>\n",
       "      <td>15.806419</td>\n",
       "      <td>258.163080</td>\n",
       "      <td>2.763841</td>\n",
       "      <td>40.197828</td>\n",
       "      <td>0.580323</td>\n",
       "    </tr>\n",
       "    <tr>\n",
       "      <th>std</th>\n",
       "      <td>10.618762</td>\n",
       "      <td>3044.765829</td>\n",
       "      <td>8.322476</td>\n",
       "      <td>257.527812</td>\n",
       "      <td>3.098021</td>\n",
       "      <td>100.128746</td>\n",
       "      <td>2.303441</td>\n",
       "    </tr>\n",
       "    <tr>\n",
       "      <th>min</th>\n",
       "      <td>18.000000</td>\n",
       "      <td>-8019.000000</td>\n",
       "      <td>1.000000</td>\n",
       "      <td>0.000000</td>\n",
       "      <td>1.000000</td>\n",
       "      <td>-1.000000</td>\n",
       "      <td>0.000000</td>\n",
       "    </tr>\n",
       "    <tr>\n",
       "      <th>25%</th>\n",
       "      <td>33.000000</td>\n",
       "      <td>72.000000</td>\n",
       "      <td>8.000000</td>\n",
       "      <td>103.000000</td>\n",
       "      <td>1.000000</td>\n",
       "      <td>-1.000000</td>\n",
       "      <td>0.000000</td>\n",
       "    </tr>\n",
       "    <tr>\n",
       "      <th>50%</th>\n",
       "      <td>39.000000</td>\n",
       "      <td>448.000000</td>\n",
       "      <td>16.000000</td>\n",
       "      <td>180.000000</td>\n",
       "      <td>2.000000</td>\n",
       "      <td>-1.000000</td>\n",
       "      <td>0.000000</td>\n",
       "    </tr>\n",
       "    <tr>\n",
       "      <th>75%</th>\n",
       "      <td>48.000000</td>\n",
       "      <td>1428.000000</td>\n",
       "      <td>21.000000</td>\n",
       "      <td>319.000000</td>\n",
       "      <td>3.000000</td>\n",
       "      <td>-1.000000</td>\n",
       "      <td>0.000000</td>\n",
       "    </tr>\n",
       "    <tr>\n",
       "      <th>max</th>\n",
       "      <td>95.000000</td>\n",
       "      <td>102127.000000</td>\n",
       "      <td>31.000000</td>\n",
       "      <td>4918.000000</td>\n",
       "      <td>63.000000</td>\n",
       "      <td>871.000000</td>\n",
       "      <td>275.000000</td>\n",
       "    </tr>\n",
       "  </tbody>\n",
       "</table>\n",
       "</div>"
      ],
      "text/plain": [
       "                age        balance           day      duration      campaign  \\\n",
       "count  45211.000000   45211.000000  45211.000000  45211.000000  45211.000000   \n",
       "mean      40.936210    1362.272058     15.806419    258.163080      2.763841   \n",
       "std       10.618762    3044.765829      8.322476    257.527812      3.098021   \n",
       "min       18.000000   -8019.000000      1.000000      0.000000      1.000000   \n",
       "25%       33.000000      72.000000      8.000000    103.000000      1.000000   \n",
       "50%       39.000000     448.000000     16.000000    180.000000      2.000000   \n",
       "75%       48.000000    1428.000000     21.000000    319.000000      3.000000   \n",
       "max       95.000000  102127.000000     31.000000   4918.000000     63.000000   \n",
       "\n",
       "              pdays      previous  \n",
       "count  45211.000000  45211.000000  \n",
       "mean      40.197828      0.580323  \n",
       "std      100.128746      2.303441  \n",
       "min       -1.000000      0.000000  \n",
       "25%       -1.000000      0.000000  \n",
       "50%       -1.000000      0.000000  \n",
       "75%       -1.000000      0.000000  \n",
       "max      871.000000    275.000000  "
      ]
     },
     "execution_count": 25,
     "metadata": {},
     "output_type": "execute_result"
    }
   ],
   "source": [
    "# View summary of third dataset\n",
    "bank_full.describe()"
   ]
  },
  {
   "cell_type": "code",
   "execution_count": 80,
   "metadata": {},
   "outputs": [
    {
     "data": {
      "image/png": "[encoded data removed]",
      "text/plain": [
       "<Figure size 900x400 with 1 Axes>"
      ]
     },
     "metadata": {},
     "output_type": "display_data"
    }
   ],
   "source": [
    "# Box plot to see the distribution of each feature's value\n",
    "plt.figure(figsize=(9, 4))\n",
    "sns.boxplot(data=bank_full, orient=\"h\")\n",
    "plt.show()"
   ]
  },
  {
   "cell_type": "code",
   "execution_count": 26,
   "metadata": {},
   "outputs": [
    {
     "data": {
      "text/html": [
       "<div>\n",
       "<style scoped>\n",
       "    .dataframe tbody tr th:only-of-type {\n",
       "        vertical-align: middle;\n",
       "    }\n",
       "\n",
       "    .dataframe tbody tr th {\n",
       "        vertical-align: top;\n",
       "    }\n",
       "\n",
       "    .dataframe thead th {\n",
       "        text-align: right;\n",
       "    }\n",
       "</style>\n",
       "<table border=\"1\" class=\"dataframe\">\n",
       "  <thead>\n",
       "    <tr style=\"text-align: right;\">\n",
       "      <th></th>\n",
       "      <th>age</th>\n",
       "      <th>balance</th>\n",
       "      <th>day</th>\n",
       "      <th>duration</th>\n",
       "      <th>campaign</th>\n",
       "      <th>pdays</th>\n",
       "      <th>previous</th>\n",
       "    </tr>\n",
       "  </thead>\n",
       "  <tbody>\n",
       "    <tr>\n",
       "      <th>count</th>\n",
       "      <td>4521.000000</td>\n",
       "      <td>4521.000000</td>\n",
       "      <td>4521.000000</td>\n",
       "      <td>4521.000000</td>\n",
       "      <td>4521.000000</td>\n",
       "      <td>4521.000000</td>\n",
       "      <td>4521.000000</td>\n",
       "    </tr>\n",
       "    <tr>\n",
       "      <th>mean</th>\n",
       "      <td>41.170095</td>\n",
       "      <td>1422.657819</td>\n",
       "      <td>15.915284</td>\n",
       "      <td>263.961292</td>\n",
       "      <td>2.793630</td>\n",
       "      <td>39.766645</td>\n",
       "      <td>0.542579</td>\n",
       "    </tr>\n",
       "    <tr>\n",
       "      <th>std</th>\n",
       "      <td>10.576211</td>\n",
       "      <td>3009.638142</td>\n",
       "      <td>8.247667</td>\n",
       "      <td>259.856633</td>\n",
       "      <td>3.109807</td>\n",
       "      <td>100.121124</td>\n",
       "      <td>1.693562</td>\n",
       "    </tr>\n",
       "    <tr>\n",
       "      <th>min</th>\n",
       "      <td>19.000000</td>\n",
       "      <td>-3313.000000</td>\n",
       "      <td>1.000000</td>\n",
       "      <td>4.000000</td>\n",
       "      <td>1.000000</td>\n",
       "      <td>-1.000000</td>\n",
       "      <td>0.000000</td>\n",
       "    </tr>\n",
       "    <tr>\n",
       "      <th>25%</th>\n",
       "      <td>33.000000</td>\n",
       "      <td>69.000000</td>\n",
       "      <td>9.000000</td>\n",
       "      <td>104.000000</td>\n",
       "      <td>1.000000</td>\n",
       "      <td>-1.000000</td>\n",
       "      <td>0.000000</td>\n",
       "    </tr>\n",
       "    <tr>\n",
       "      <th>50%</th>\n",
       "      <td>39.000000</td>\n",
       "      <td>444.000000</td>\n",
       "      <td>16.000000</td>\n",
       "      <td>185.000000</td>\n",
       "      <td>2.000000</td>\n",
       "      <td>-1.000000</td>\n",
       "      <td>0.000000</td>\n",
       "    </tr>\n",
       "    <tr>\n",
       "      <th>75%</th>\n",
       "      <td>49.000000</td>\n",
       "      <td>1480.000000</td>\n",
       "      <td>21.000000</td>\n",
       "      <td>329.000000</td>\n",
       "      <td>3.000000</td>\n",
       "      <td>-1.000000</td>\n",
       "      <td>0.000000</td>\n",
       "    </tr>\n",
       "    <tr>\n",
       "      <th>max</th>\n",
       "      <td>87.000000</td>\n",
       "      <td>71188.000000</td>\n",
       "      <td>31.000000</td>\n",
       "      <td>3025.000000</td>\n",
       "      <td>50.000000</td>\n",
       "      <td>871.000000</td>\n",
       "      <td>25.000000</td>\n",
       "    </tr>\n",
       "  </tbody>\n",
       "</table>\n",
       "</div>"
      ],
      "text/plain": [
       "               age       balance          day     duration     campaign  \\\n",
       "count  4521.000000   4521.000000  4521.000000  4521.000000  4521.000000   \n",
       "mean     41.170095   1422.657819    15.915284   263.961292     2.793630   \n",
       "std      10.576211   3009.638142     8.247667   259.856633     3.109807   \n",
       "min      19.000000  -3313.000000     1.000000     4.000000     1.000000   \n",
       "25%      33.000000     69.000000     9.000000   104.000000     1.000000   \n",
       "50%      39.000000    444.000000    16.000000   185.000000     2.000000   \n",
       "75%      49.000000   1480.000000    21.000000   329.000000     3.000000   \n",
       "max      87.000000  71188.000000    31.000000  3025.000000    50.000000   \n",
       "\n",
       "             pdays     previous  \n",
       "count  4521.000000  4521.000000  \n",
       "mean     39.766645     0.542579  \n",
       "std     100.121124     1.693562  \n",
       "min      -1.000000     0.000000  \n",
       "25%      -1.000000     0.000000  \n",
       "50%      -1.000000     0.000000  \n",
       "75%      -1.000000     0.000000  \n",
       "max     871.000000    25.000000  "
      ]
     },
     "execution_count": 26,
     "metadata": {},
     "output_type": "execute_result"
    }
   ],
   "source": [
    "# View summary of fourth dataset\n",
    "bank.describe()"
   ]
  },
  {
   "cell_type": "code",
   "execution_count": 81,
   "metadata": {},
   "outputs": [
    {
     "data": {
      "image/png": "[encoded data removed]",
      "text/plain": [
       "<Figure size 900x400 with 1 Axes>"
      ]
     },
     "metadata": {},
     "output_type": "display_data"
    }
   ],
   "source": [
    "# Box plot to see the distribution of each feature's value\n",
    "plt.figure(figsize=(9, 4))\n",
    "sns.boxplot(data=bank, orient=\"h\")\n",
    "plt.show()"
   ]
  },
  {
   "cell_type": "code",
   "execution_count": 15,
   "metadata": {},
   "outputs": [
    {
     "name": "stdout",
     "output_type": "stream",
     "text": [
      "bank_add_full shape :  (41188, 21)\n",
      "job : 12 ['housemaid' 'services' 'admin.' 'blue-collar' 'technician' 'retired'\n",
      " 'management' 'unemployed' 'self-employed' 'unknown' 'entrepreneur'\n",
      " 'student']\n",
      "marital : 4 ['married' 'single' 'divorced' 'unknown']\n",
      "education : 8 ['basic.4y' 'high.school' 'basic.6y' 'basic.9y' 'professional.course'\n",
      " 'unknown' 'university.degree' 'illiterate']\n",
      "default : 3 ['no' 'unknown' 'yes']\n",
      "housing : 3 ['no' 'yes' 'unknown']\n",
      "loan : 3 ['no' 'yes' 'unknown']\n",
      "contact : 2 ['telephone' 'cellular']\n",
      "month : 10 ['may' 'jun' 'jul' 'aug' 'oct' 'nov' 'dec' 'mar' 'apr' 'sep']\n",
      "day_of_week : 5 ['mon' 'tue' 'wed' 'thu' 'fri']\n",
      "poutcome : 3 ['nonexistent' 'failure' 'success']\n",
      "y : 2 ['no' 'yes']\n"
     ]
    }
   ],
   "source": [
    "# View the unique categories of each columns (first and second datasets are considered the same)\n",
    "print('bank_add_full shape : ', bank_add_full.shape)\n",
    "for col in bank_add_full.select_dtypes('object').columns:\n",
    "    if bank_add_full[col].nunique() <= 20:\n",
    "        print(col, ':', bank_add_full[col].nunique(), bank_add_full[col].unique())\n",
    "    else:\n",
    "        print(col)"
   ]
  },
  {
   "cell_type": "code",
   "execution_count": 27,
   "metadata": {},
   "outputs": [
    {
     "name": "stdout",
     "output_type": "stream",
     "text": [
      "bank_full shape :  (45211, 17)\n",
      "job : 12 ['management' 'technician' 'entrepreneur' 'blue-collar' 'unknown'\n",
      " 'retired' 'admin.' 'services' 'self-employed' 'unemployed' 'housemaid'\n",
      " 'student']\n",
      "marital : 3 ['married' 'single' 'divorced']\n",
      "education : 4 ['tertiary' 'secondary' 'unknown' 'primary']\n",
      "default : 2 ['no' 'yes']\n",
      "housing : 2 ['yes' 'no']\n",
      "loan : 2 ['no' 'yes']\n",
      "contact : 3 ['unknown' 'cellular' 'telephone']\n",
      "month : 12 ['may' 'jun' 'jul' 'aug' 'oct' 'nov' 'dec' 'jan' 'feb' 'mar' 'apr' 'sep']\n",
      "poutcome : 4 ['unknown' 'failure' 'other' 'success']\n",
      "y : 2 ['no' 'yes']\n"
     ]
    }
   ],
   "source": [
    "# View the unique categories of each columns (third and fourth datasets are considered the same)\n",
    "print('bank_full shape : ', bank_full.shape)\n",
    "for col in bank_full.select_dtypes('object').columns:\n",
    "    if bank_full[col].nunique() <= 20:\n",
    "        print(col, ':', bank_full[col].nunique(), bank_full[col].unique())\n",
    "    else:\n",
    "        print(col)"
   ]
  },
  {
   "cell_type": "code",
   "execution_count": 54,
   "metadata": {},
   "outputs": [],
   "source": [
    "# Split manual the first dataset\n",
    "X = bank_add_full.drop(['y'], axis=1) # only for inputs\n",
    "y = bank_add_full.y.copy() # only for outputs\n",
    "\n",
    "# Split manual the second dataset\n",
    "A = bank_add.drop(['y'], axis=1) # only for inputs\n",
    "b = bank_add.y.copy() # only for outputs \n",
    "\n",
    "# Split manual the third dataset\n",
    "M = bank_full.drop(['y'], axis=1) # only for inputs\n",
    "n = bank_full.y.copy() # only for outputs\n",
    "\n",
    "# Split manual the fourth dataset\n",
    "R = bank.drop(['y'], axis=1) # only for inputs\n",
    "s = bank.y.copy() # only for outputs "
   ]
  },
  {
   "cell_type": "code",
   "execution_count": 17,
   "metadata": {},
   "outputs": [
    {
     "name": "stdout",
     "output_type": "stream",
     "text": [
      "(41188, 20)\n",
      "y\n",
      "no     36548\n",
      "yes     4640\n",
      "Name: count, dtype: int64\n"
     ]
    }
   ],
   "source": [
    "# View the splitting result of the first dataset\n",
    "print(X.shape)\n",
    "print(y.value_counts())"
   ]
  },
  {
   "cell_type": "code",
   "execution_count": 18,
   "metadata": {},
   "outputs": [
    {
     "name": "stdout",
     "output_type": "stream",
     "text": [
      "(4119, 20)\n",
      "y\n",
      "no     3668\n",
      "yes     451\n",
      "Name: count, dtype: int64\n"
     ]
    }
   ],
   "source": [
    "# View the splitting result of the second dataset\n",
    "print(A.shape)\n",
    "print(b.value_counts())"
   ]
  },
  {
   "cell_type": "code",
   "execution_count": 30,
   "metadata": {},
   "outputs": [
    {
     "name": "stdout",
     "output_type": "stream",
     "text": [
      "(45211, 16)\n",
      "y\n",
      "no     39922\n",
      "yes     5289\n",
      "Name: count, dtype: int64\n"
     ]
    }
   ],
   "source": [
    "# View the splitting result of the third dataset\n",
    "print(M.shape)\n",
    "print(n.value_counts())"
   ]
  },
  {
   "cell_type": "code",
   "execution_count": 31,
   "metadata": {},
   "outputs": [
    {
     "name": "stdout",
     "output_type": "stream",
     "text": [
      "(4521, 16)\n",
      "y\n",
      "no     4000\n",
      "yes     521\n",
      "Name: count, dtype: int64\n"
     ]
    }
   ],
   "source": [
    "# View the splitting result of the fourth dataset\n",
    "print(R.shape)\n",
    "print(s.value_counts())"
   ]
  },
  {
   "cell_type": "markdown",
   "metadata": {},
   "source": [
    "Converting the Inputs Variable to Numpy Array (2 dimensions) and Encoding the inputs"
   ]
  },
  {
   "cell_type": "code",
   "execution_count": 46,
   "metadata": {},
   "outputs": [
    {
     "name": "stdout",
     "output_type": "stream",
     "text": [
      "arrange age: [[56]]\n",
      "arrange duration: [[261]]\n",
      "arrange campaign: [[1]]\n",
      "arrange pdays: [[999]]\n",
      "arrange previous: [[0]]\n",
      "arrange emp.var.rate: [[1.1]]\n",
      "arrange cons.price.idx: [[93.994]]\n",
      "arrange cons.conf.idx: [[-36.4]]\n",
      "arrange euribor3m: [[4.857]]\n",
      "arrange nr.employed: [[5191.]]\n",
      "==================\n",
      "arrange age: [[58]]\n",
      "arrange balance: [[2143]]\n",
      "arrange day: [[5]]\n",
      "arrange duration: [[261]]\n",
      "arrange campaign: [[1]]\n",
      "arrange pdays: [[-1]]\n",
      "arrange previous: [[0]]\n"
     ]
    }
   ],
   "source": [
    "# Create a dictionary to store the 2D array result\n",
    "array_num = {} # first dataset\n",
    "additional_test = {} # second dataset\n",
    "bank_full_arr = {} # third dataset\n",
    "bank_arr = {} # fourth dataset\n",
    "\n",
    "# List of feature names (numeric data type) that will be reshaped directly without encoding.\n",
    "feature_num = ['age', 'duration', 'campaign', 'pdays', 'previous', 'emp.var.rate', 'cons.price.idx', 'cons.conf.idx', 'euribor3m', 'nr.employed']\n",
    "feature_num2 = ['age', 'balance', 'day', 'duration', 'campaign', 'pdays', 'previous']\n",
    "\n",
    "# convert numeric features into 2D arrays (for first and second dataset)\n",
    "for i in feature_num:\n",
    "   array_num[i] = np.array(X[i]).reshape(-1,1)\n",
    "   additional_test[i] = np.array(A[i]).reshape(-1,1)\n",
    "   print(f'arrange {i}:', array_num[i][:1]) # just to check\n",
    "   \n",
    "# convert numeric features into 2D arrays (for third and fourth dataset)\n",
    "print('==================')\n",
    "for i in feature_num2:\n",
    "   bank_full_arr[i] = np.array(M[i]).reshape(-1,1)\n",
    "   bank_arr[i] = np.array(R[i]).reshape(-1,1)\n",
    "   print(f'arrange {i}:', bank_full_arr[i][:1]) # just to check"
   ]
  },
  {
   "cell_type": "code",
   "execution_count": 38,
   "metadata": {},
   "outputs": [
    {
     "name": "stdout",
     "output_type": "stream",
     "text": [
      "job_oh :  [[0. 0. 0. 1. 0. 0. 0. 0. 0. 0. 0. 0.]]\n",
      "marital_oh :  [[0. 1. 0. 0.]]\n",
      "education_oh :  [[1. 0. 0. 0. 0. 0. 0. 0.]]\n",
      "default_oh :  [[1. 0. 0.]]\n",
      "housing_oh :  [[1. 0. 0.]]\n",
      "loan_oh :  [[1. 0. 0.]]\n",
      "contact_oh :  [[0. 1.]]\n",
      "month_oh :  [[0. 0. 0. 0. 0. 0. 1. 0. 0. 0.]]\n",
      "day_of_week_oh :  [[0. 1. 0. 0. 0.]]\n",
      "poutcome_oh :  [[0. 1. 0.]]\n",
      "==============\n",
      "job_oh :  [[0. 0. 0. 0. 1. 0. 0. 0. 0. 0. 0. 0.]]\n",
      "marital_oh :  [[0. 1. 0.]]\n",
      "education_oh :  [[0. 0. 1. 0.]]\n",
      "default_oh :  [[1. 0.]]\n",
      "housing_oh :  [[0. 1.]]\n",
      "loan_oh :  [[1. 0.]]\n",
      "contact_oh :  [[0. 0. 1.]]\n",
      "month_oh :  [[0. 0. 0. 0. 0. 0. 0. 0. 1. 0. 0. 0.]]\n",
      "poutcome_oh :  [[0. 0. 0. 1.]]\n"
     ]
    }
   ],
   "source": [
    "# Encode features of data object type\n",
    "# Create a OneHotEncoder object\n",
    "oh = OneHotEncoder()\n",
    "\n",
    "# Create a dictionary to store one-hot encoding results\n",
    "oh_features = {}\n",
    "oh_additional_test = {}\n",
    "oh_bank_full = {}\n",
    "oh_bank = {}\n",
    "\n",
    "# List of feature names (data object type) to be encoded\n",
    "feature_names = ['job', 'marital', 'education', 'default', 'housing', 'loan', 'contact', 'month', 'day_of_week', 'poutcome']\n",
    "feature_names2 = ['job', 'marital', 'education', 'default', 'housing', 'loan', 'contact', 'month', 'poutcome']\n",
    "\n",
    "# Perform one-hot encoding for each feature in the bank_add_full dataset\n",
    "for i in feature_names:\n",
    "    feature_array = np.array(X[i]).reshape(-1, 1)\n",
    "    one_hot_encoded_feature = oh.fit_transform(feature_array).toarray()\n",
    "    oh_features[i] = one_hot_encoded_feature\n",
    "    print(f'{i}_oh : ', oh_features[i][:1]) # just to check\n",
    "    \n",
    "# Perform one-hot encoding for each feature in the bank_add dataset\n",
    "for x in feature_names:\n",
    "    feature_array = np.array(A[x]).reshape(-1, 1)\n",
    "    one_hot_encoded_feature = oh.fit_transform(feature_array).toarray()\n",
    "    oh_additional_test[x] = one_hot_encoded_feature\n",
    "    \n",
    "    \n",
    "# Perform one-hot encoding for each feature in the bank_full dataset\n",
    "print('==============')\n",
    "for i in feature_names2:\n",
    "    feature_array = np.array(M[i]).reshape(-1, 1)\n",
    "    one_hot_encoded_feature = oh.fit_transform(feature_array).toarray()\n",
    "    oh_bank_full[i] = one_hot_encoded_feature\n",
    "    print(f'{i}_oh : ', oh_bank_full[i][:1]) # just to check\n",
    "    \n",
    "# Perform one-hot encoding for each feature in the bank dataset\n",
    "for x in feature_names2:\n",
    "    feature_array = np.array(R[x]).reshape(-1, 1)\n",
    "    one_hot_encoded_feature = oh.fit_transform(feature_array).toarray()\n",
    "    oh_bank[x] = one_hot_encoded_feature"
   ]
  },
  {
   "cell_type": "code",
   "execution_count": 21,
   "metadata": {},
   "outputs": [
    {
     "data": {
      "text/plain": [
       "' \\nNotes: OneHotEncoder - sort labels by alphabets\\njob >> admin | blue-collar | enterpreneur | housemaid | management | retired | self-employed | services | student | technician | unemployed | unknown\\nmarital >> divoreced | married | single | unknown\\neducation >> basic.4y | basic.6y | basic.9y | high.school | illiterate | professional.course | university.degree | unknown\\ndefault >> no | unknown | yes\\nloan >> no | unknown | yes\\ncontact >> cellular | telephone\\nday_of_week >> fri | mon | thu | tue | wed\\n'"
      ]
     },
     "execution_count": 21,
     "metadata": {},
     "output_type": "execute_result"
    }
   ],
   "source": [
    "\"\"\" \n",
    "Notes: OneHotEncoder - sort labels by alphabets\n",
    "job >> admin | blue-collar | enterpreneur | housemaid | management | retired | self-employed | services | student | technician | unemployed | unknown\n",
    "marital >> divoreced | married | single | unknown\n",
    "education >> basic.4y | basic.6y | basic.9y | high.school | illiterate | professional.course | university.degree | unknown\n",
    "default >> no | unknown | yes\n",
    "loan >> no | unknown | yes\n",
    "contact >> cellular | telephone\n",
    "day_of_week >> fri | mon | thu | tue | wed\n",
    "\"\"\""
   ]
  },
  {
   "cell_type": "markdown",
   "metadata": {},
   "source": [
    "Concatenate array 2 dimensions of the input labels"
   ]
  },
  {
   "cell_type": "code",
   "execution_count": 50,
   "metadata": {},
   "outputs": [
    {
     "data": {
      "text/plain": [
       "array([ 5.800e+01,  2.143e+03,  5.000e+00,  2.610e+02,  1.000e+00,\n",
       "       -1.000e+00,  0.000e+00,  0.000e+00,  0.000e+00,  0.000e+00,\n",
       "        0.000e+00,  1.000e+00,  0.000e+00,  0.000e+00,  0.000e+00,\n",
       "        0.000e+00,  0.000e+00,  0.000e+00,  0.000e+00,  0.000e+00,\n",
       "        1.000e+00,  0.000e+00,  0.000e+00,  0.000e+00,  1.000e+00,\n",
       "        0.000e+00,  1.000e+00,  0.000e+00,  0.000e+00,  1.000e+00,\n",
       "        1.000e+00,  0.000e+00,  0.000e+00,  0.000e+00,  1.000e+00,\n",
       "        0.000e+00,  0.000e+00,  0.000e+00,  0.000e+00,  0.000e+00,\n",
       "        0.000e+00,  0.000e+00,  0.000e+00,  1.000e+00,  0.000e+00,\n",
       "        0.000e+00,  0.000e+00,  0.000e+00,  0.000e+00,  0.000e+00,\n",
       "        1.000e+00])"
      ]
     },
     "execution_count": 50,
     "metadata": {},
     "output_type": "execute_result"
    }
   ],
   "source": [
    "# List of features that will be concat\n",
    "feature_num = ['age', 'duration', 'campaign', 'pdays', 'previous', 'emp.var.rate', 'cons.price.idx', 'cons.conf.idx', 'euribor3m', 'nr.employed']\n",
    "feature_names = ['job', 'marital', 'education', 'default', 'housing', 'loan', 'contact', 'month', 'day_of_week', 'poutcome']\n",
    "feature_num2 = ['age', 'balance', 'day', 'duration', 'campaign', 'pdays', 'previous']\n",
    "feature_names2 = ['job', 'marital', 'education', 'default', 'housing', 'loan', 'contact', 'month', 'poutcome']\n",
    "\n",
    "# Create an empty array to hold the concat result\n",
    "arrays_to_concat = []\n",
    "add_arrays_concat = []\n",
    "bank_full_concat = []\n",
    "bank_concat = []\n",
    "\n",
    "# Perform concat using the for loop simultaneously for two datasets (first and second dataset)\n",
    "for m, n in zip(feature_num, feature_names):\n",
    "    arrays_to_concat.append(array_num[m])\n",
    "    arrays_to_concat.append(oh_features[n])\n",
    "    add_arrays_concat.append(additional_test[m])\n",
    "    add_arrays_concat.append(oh_additional_test[n])\n",
    "    \n",
    "# Perform concat using the for loop simultaneously for two datasets (third and fourth dataset)\n",
    "# Concatenate numerical features\n",
    "bank_full_concat.append(np.concatenate([bank_full_arr[m] for m in feature_num2], axis=1))\n",
    "bank_concat.append(np.concatenate([bank_arr[m] for m in feature_num2], axis=1))\n",
    "# Concatenate one-hot encoded features\n",
    "bank_full_concat.append(np.concatenate([oh_bank_full[n] for n in feature_names2], axis=1))\n",
    "bank_concat.append(np.concatenate([oh_bank[n] for n in feature_names2], axis=1))\n",
    "\n",
    "# Stores the result of the for loop in a new variable\n",
    "X_encoded_array = np.concatenate(arrays_to_concat, axis=1)\n",
    "A_encoded = np.concatenate(add_arrays_concat, axis=1)\n",
    "M_encoded_array = np.concatenate(bank_full_concat, axis=1)\n",
    "R_encoded = np.concatenate(bank_concat, axis=1)\n",
    "M_encoded_array[0] # just to check"
   ]
  },
  {
   "cell_type": "code",
   "execution_count": 51,
   "metadata": {},
   "outputs": [
    {
     "name": "stdout",
     "output_type": "stream",
     "text": [
      "(41188, 63)\n",
      "(4119, 63)\n",
      "(45211, 51)\n",
      "(4521, 51)\n"
     ]
    }
   ],
   "source": [
    "# just to check\n",
    "# so, after encode the features there are 63 columns in each row/record train for first and second dataset\n",
    "# and there are 35 columns in each row/record train for third and fourth dataset\n",
    "print(X_encoded_array.shape) \n",
    "print(A_encoded.shape)\n",
    "print(M_encoded_array.shape)\n",
    "print(R_encoded.shape)"
   ]
  },
  {
   "cell_type": "markdown",
   "metadata": {},
   "source": [
    "Encoding The Output/Target Data Columns<br><br>\n",
    "> Output/Target Variable does not need to be converted to a 2-dimensional array, just label encoded."
   ]
  },
  {
   "cell_type": "code",
   "execution_count": 61,
   "metadata": {},
   "outputs": [],
   "source": [
    "targets = [y, b, n, s]\n",
    "for i in targets:\n",
    "    [i] = np.array([i])"
   ]
  },
  {
   "cell_type": "code",
   "execution_count": 62,
   "metadata": {},
   "outputs": [
    {
     "name": "stdout",
     "output_type": "stream",
     "text": [
      "(41188,)\n",
      "(4119,)\n",
      "(45211,)\n",
      "(4521,)\n"
     ]
    }
   ],
   "source": [
    "# Create a LabelEncoder object\n",
    "le = LabelEncoder()\n",
    "\n",
    "# Do the encode for y and b (target in first and second dataset)\n",
    "y_encoded_array = le.fit_transform(y)\n",
    "b_test = le.fit_transform(b)\n",
    "\n",
    "# Doing the encode for n and s (target in third and fourth dataset)\n",
    "n_encoded_array = le.fit_transform(n)\n",
    "s_test = le.fit_transform(s)\n",
    "\n",
    "# just to check\n",
    "print(y_encoded_array.shape)\n",
    "print(b_test.shape)\n",
    "print(n_encoded_array.shape)\n",
    "print(s_test.shape)"
   ]
  },
  {
   "cell_type": "code",
   "execution_count": 143,
   "metadata": {},
   "outputs": [
    {
     "name": "stdout",
     "output_type": "stream",
     "text": [
      "[0 0 0 ... 0 1 0]\n",
      "[0 0 0 ... 0 0 0]\n",
      "[0 0 0 ... 1 0 0]\n",
      "[0 0 0 ... 0 0 0]\n"
     ]
    }
   ],
   "source": [
    "# just to check\n",
    "print(y_encoded_array)\n",
    "print(b_test)\n",
    "print(n_encoded_array)\n",
    "print(s_test)"
   ]
  },
  {
   "cell_type": "markdown",
   "metadata": {},
   "source": [
    "split the first dataset into training set and test set to fit the model"
   ]
  },
  {
   "cell_type": "code",
   "execution_count": 64,
   "metadata": {},
   "outputs": [],
   "source": [
    "# for fitting the model using the first dataset\n",
    "X_train, X_test, y_train, y_test = train_test_split(X_encoded_array, y_encoded_array, test_size=0.3, random_state=101)\n",
    "\n",
    "# for fitting the model using the third dataset\n",
    "M_train, M_test, n_train, n_test = train_test_split(M_encoded_array, n_encoded_array, test_size=0.3, random_state=101)"
   ]
  },
  {
   "cell_type": "markdown",
   "metadata": {},
   "source": [
    "### Creating a machine learning model"
   ]
  },
  {
   "cell_type": "markdown",
   "metadata": {},
   "source": [
    "#### 1. Logistic Regression"
   ]
  },
  {
   "cell_type": "markdown",
   "metadata": {},
   "source": [
    "> First and Second Dataset"
   ]
  },
  {
   "cell_type": "code",
   "execution_count": 27,
   "metadata": {},
   "outputs": [
    {
     "data": {
      "text/html": [
       "<style>#sk-container-id-1 {color: black;}#sk-container-id-1 pre{padding: 0;}#sk-container-id-1 div.sk-toggleable {background-color: white;}#sk-container-id-1 label.sk-toggleable__label {cursor: pointer;display: block;width: 100%;margin-bottom: 0;padding: 0.3em;box-sizing: border-box;text-align: center;}#sk-container-id-1 label.sk-toggleable__label-arrow:before {content: \"▸\";float: left;margin-right: 0.25em;color: #696969;}#sk-container-id-1 label.sk-toggleable__label-arrow:hover:before {color: black;}#sk-container-id-1 div.sk-estimator:hover label.sk-toggleable__label-arrow:before {color: black;}#sk-container-id-1 div.sk-toggleable__content {max-height: 0;max-width: 0;overflow: hidden;text-align: left;background-color: #f0f8ff;}#sk-container-id-1 div.sk-toggleable__content pre {margin: 0.2em;color: black;border-radius: 0.25em;background-color: #f0f8ff;}#sk-container-id-1 input.sk-toggleable__control:checked~div.sk-toggleable__content {max-height: 200px;max-width: 100%;overflow: auto;}#sk-container-id-1 input.sk-toggleable__control:checked~label.sk-toggleable__label-arrow:before {content: \"▾\";}#sk-container-id-1 div.sk-estimator input.sk-toggleable__control:checked~label.sk-toggleable__label {background-color: #d4ebff;}#sk-container-id-1 div.sk-label input.sk-toggleable__control:checked~label.sk-toggleable__label {background-color: #d4ebff;}#sk-container-id-1 input.sk-hidden--visually {border: 0;clip: rect(1px 1px 1px 1px);clip: rect(1px, 1px, 1px, 1px);height: 1px;margin: -1px;overflow: hidden;padding: 0;position: absolute;width: 1px;}#sk-container-id-1 div.sk-estimator {font-family: monospace;background-color: #f0f8ff;border: 1px dotted black;border-radius: 0.25em;box-sizing: border-box;margin-bottom: 0.5em;}#sk-container-id-1 div.sk-estimator:hover {background-color: #d4ebff;}#sk-container-id-1 div.sk-parallel-item::after {content: \"\";width: 100%;border-bottom: 1px solid gray;flex-grow: 1;}#sk-container-id-1 div.sk-label:hover label.sk-toggleable__label {background-color: #d4ebff;}#sk-container-id-1 div.sk-serial::before {content: \"\";position: absolute;border-left: 1px solid gray;box-sizing: border-box;top: 0;bottom: 0;left: 50%;z-index: 0;}#sk-container-id-1 div.sk-serial {display: flex;flex-direction: column;align-items: center;background-color: white;padding-right: 0.2em;padding-left: 0.2em;position: relative;}#sk-container-id-1 div.sk-item {position: relative;z-index: 1;}#sk-container-id-1 div.sk-parallel {display: flex;align-items: stretch;justify-content: center;background-color: white;position: relative;}#sk-container-id-1 div.sk-item::before, #sk-container-id-1 div.sk-parallel-item::before {content: \"\";position: absolute;border-left: 1px solid gray;box-sizing: border-box;top: 0;bottom: 0;left: 50%;z-index: -1;}#sk-container-id-1 div.sk-parallel-item {display: flex;flex-direction: column;z-index: 1;position: relative;background-color: white;}#sk-container-id-1 div.sk-parallel-item:first-child::after {align-self: flex-end;width: 50%;}#sk-container-id-1 div.sk-parallel-item:last-child::after {align-self: flex-start;width: 50%;}#sk-container-id-1 div.sk-parallel-item:only-child::after {width: 0;}#sk-container-id-1 div.sk-dashed-wrapped {border: 1px dashed gray;margin: 0 0.4em 0.5em 0.4em;box-sizing: border-box;padding-bottom: 0.4em;background-color: white;}#sk-container-id-1 div.sk-label label {font-family: monospace;font-weight: bold;display: inline-block;line-height: 1.2em;}#sk-container-id-1 div.sk-label-container {text-align: center;}#sk-container-id-1 div.sk-container {/* jupyter's `normalize.less` sets `[hidden] { display: none; }` but bootstrap.min.css set `[hidden] { display: none !important; }` so we also need the `!important` here to be able to override the default hidden behavior on the sphinx rendered scikit-learn.org. See: https://github.com/scikit-learn/scikit-learn/issues/21755 */display: inline-block !important;position: relative;}#sk-container-id-1 div.sk-text-repr-fallback {display: none;}</style><div id=\"sk-container-id-1\" class=\"sk-top-container\"><div class=\"sk-text-repr-fallback\"><pre>LogisticRegression(random_state=42)</pre><b>In a Jupyter environment, please rerun this cell to show the HTML representation or trust the notebook. <br />On GitHub, the HTML representation is unable to render, please try loading this page with nbviewer.org.</b></div><div class=\"sk-container\" hidden><div class=\"sk-item\"><div class=\"sk-estimator sk-toggleable\"><input class=\"sk-toggleable__control sk-hidden--visually\" id=\"sk-estimator-id-1\" type=\"checkbox\" checked><label for=\"sk-estimator-id-1\" class=\"sk-toggleable__label sk-toggleable__label-arrow\">LogisticRegression</label><div class=\"sk-toggleable__content\"><pre>LogisticRegression(random_state=42)</pre></div></div></div></div></div>"
      ],
      "text/plain": [
       "LogisticRegression(random_state=42)"
      ]
     },
     "execution_count": 27,
     "metadata": {},
     "output_type": "execute_result"
    }
   ],
   "source": [
    "# Create a Logistic Regression model\n",
    "model_lr = LogisticRegression(random_state=42)\n",
    "\n",
    "# Train the model using the training sets\n",
    "model_lr.fit(X_train, y_train)"
   ]
  },
  {
   "cell_type": "code",
   "execution_count": 28,
   "metadata": {},
   "outputs": [
    {
     "name": "stdout",
     "output_type": "stream",
     "text": [
      "[[ 3.60792721e-03  1.26111278e-02 -2.30079297e-02 -2.66942302e-03\n",
      "  -8.88331080e-04  2.40983464e-04  1.05892281e-02 -1.08170638e-03\n",
      "  -5.98776474e-03  9.70536150e-03  2.10004932e-03  1.63360781e-03\n",
      "  -5.71205350e-04  4.63138460e-03 -2.03748775e-03 -1.80668105e-02\n",
      "   2.26398859e-02  1.38409990e-04 -7.21657774e-02 -4.87361278e-03\n",
      "  -3.90335799e-03 -1.07322806e-02 -2.09754949e-03  1.96208459e-04\n",
      "   9.62418470e-04  2.00031068e-02  3.11906475e-03 -1.45505863e-03\n",
      "   3.16167340e-02 -2.89357338e-02 -7.00262776e-06  1.77224972e-02\n",
      "  -2.15088872e-03 -4.60772328e-04  5.28565867e-03 -2.65016945e-01\n",
      "   4.48403892e-03 -4.60772328e-04 -1.34926896e-03  2.01819742e-01\n",
      "   4.43866469e-02 -4.17126493e-02  3.88454077e-02  1.19999293e-02\n",
      "   5.02977905e-03  2.68299688e-03 -3.25615411e-03  3.79835268e-03\n",
      "   1.40290607e-02 -4.30766457e-02 -5.32122957e-03  1.05536551e-02\n",
      "   6.23425334e-03 -2.84387699e-01 -4.71764054e-04 -3.05077553e-03\n",
      "   4.53721706e-06  3.74691414e-03  2.44508585e-03 -3.69760977e-03\n",
      "   5.75943630e-03 -7.23973308e-03  4.15429441e-03]]\n",
      "[0.00267408]\n"
     ]
    }
   ],
   "source": [
    "# Print the coefficient and intercept of the logistic regression model\n",
    "print(model_lr.coef_) \n",
    "print(model_lr.intercept_)"
   ]
  },
  {
   "cell_type": "code",
   "execution_count": 29,
   "metadata": {},
   "outputs": [
    {
     "name": "stdout",
     "output_type": "stream",
     "text": [
      "First Dataset : 0.9095249656065388\n",
      "[[10725   253]\n",
      " [  865   514]]\n",
      "Second Dataset 0.9147851420247632\n",
      "[[3581   87]\n",
      " [ 264  187]]\n"
     ]
    }
   ],
   "source": [
    "# Predict the response for test set and print the confusion matrix\n",
    "pred_lr = model_lr.predict(X_test)\n",
    "acc_score_lr = accuracy_score(y_test, pred_lr)\n",
    "print('First Dataset :', acc_score_lr)\n",
    "print(confusion_matrix(y_test, pred_lr))\n",
    "\n",
    "# Predict the response test set and print the confusion matrix\n",
    "pred_lr2 = model_lr.predict(A_encoded)\n",
    "acc_score_lr2 = accuracy_score(b_test, pred_lr2)\n",
    "print('Second Dataset', acc_score_lr2)\n",
    "print(confusion_matrix(b_test, pred_lr2))"
   ]
  },
  {
   "cell_type": "code",
   "execution_count": 30,
   "metadata": {},
   "outputs": [
    {
     "name": "stdout",
     "output_type": "stream",
     "text": [
      "              precision    recall  f1-score   support\n",
      "\n",
      "           0       0.93      0.98      0.95     10978\n",
      "           1       0.67      0.37      0.48      1379\n",
      "\n",
      "    accuracy                           0.91     12357\n",
      "   macro avg       0.80      0.67      0.71     12357\n",
      "weighted avg       0.90      0.91      0.90     12357\n",
      "\n"
     ]
    }
   ],
   "source": [
    "# Print the classification report of the first dataset\n",
    "print(classification_report(y_test, pred_lr))"
   ]
  },
  {
   "cell_type": "code",
   "execution_count": 31,
   "metadata": {},
   "outputs": [
    {
     "name": "stdout",
     "output_type": "stream",
     "text": [
      "              precision    recall  f1-score   support\n",
      "\n",
      "           0       0.93      0.98      0.95      3668\n",
      "           1       0.68      0.41      0.52       451\n",
      "\n",
      "    accuracy                           0.91      4119\n",
      "   macro avg       0.81      0.70      0.73      4119\n",
      "weighted avg       0.90      0.91      0.91      4119\n",
      "\n"
     ]
    }
   ],
   "source": [
    "# Print the classification report of the second dataset\n",
    "print(classification_report(b_test, pred_lr2))"
   ]
  },
  {
   "cell_type": "markdown",
   "metadata": {},
   "source": [
    "> Third and Fourth Dataset"
   ]
  },
  {
   "cell_type": "code",
   "execution_count": 112,
   "metadata": {},
   "outputs": [],
   "source": [
    "# Because this third dataset has outliers so standardization must be done using the StandardScaler function.\n",
    "# Create a StandardScaler model\n",
    "scaler = StandardScaler()\n",
    "\n",
    "# Transform data to model\n",
    "M_train_scaled = scaler.fit_transform(M_train)\n",
    "M_test_scaled = scaler.transform(M_test)\n",
    "\n",
    "# Applied standardization to the new test data for the second prediction so that the scale of the data applied to the model is consistent\n",
    "R_scaled = scaler.transform(R_encoded) "
   ]
  },
  {
   "cell_type": "code",
   "execution_count": 86,
   "metadata": {},
   "outputs": [
    {
     "data": {
      "text/html": [
       "<style>#sk-container-id-7 {color: black;}#sk-container-id-7 pre{padding: 0;}#sk-container-id-7 div.sk-toggleable {background-color: white;}#sk-container-id-7 label.sk-toggleable__label {cursor: pointer;display: block;width: 100%;margin-bottom: 0;padding: 0.3em;box-sizing: border-box;text-align: center;}#sk-container-id-7 label.sk-toggleable__label-arrow:before {content: \"▸\";float: left;margin-right: 0.25em;color: #696969;}#sk-container-id-7 label.sk-toggleable__label-arrow:hover:before {color: black;}#sk-container-id-7 div.sk-estimator:hover label.sk-toggleable__label-arrow:before {color: black;}#sk-container-id-7 div.sk-toggleable__content {max-height: 0;max-width: 0;overflow: hidden;text-align: left;background-color: #f0f8ff;}#sk-container-id-7 div.sk-toggleable__content pre {margin: 0.2em;color: black;border-radius: 0.25em;background-color: #f0f8ff;}#sk-container-id-7 input.sk-toggleable__control:checked~div.sk-toggleable__content {max-height: 200px;max-width: 100%;overflow: auto;}#sk-container-id-7 input.sk-toggleable__control:checked~label.sk-toggleable__label-arrow:before {content: \"▾\";}#sk-container-id-7 div.sk-estimator input.sk-toggleable__control:checked~label.sk-toggleable__label {background-color: #d4ebff;}#sk-container-id-7 div.sk-label input.sk-toggleable__control:checked~label.sk-toggleable__label {background-color: #d4ebff;}#sk-container-id-7 input.sk-hidden--visually {border: 0;clip: rect(1px 1px 1px 1px);clip: rect(1px, 1px, 1px, 1px);height: 1px;margin: -1px;overflow: hidden;padding: 0;position: absolute;width: 1px;}#sk-container-id-7 div.sk-estimator {font-family: monospace;background-color: #f0f8ff;border: 1px dotted black;border-radius: 0.25em;box-sizing: border-box;margin-bottom: 0.5em;}#sk-container-id-7 div.sk-estimator:hover {background-color: #d4ebff;}#sk-container-id-7 div.sk-parallel-item::after {content: \"\";width: 100%;border-bottom: 1px solid gray;flex-grow: 1;}#sk-container-id-7 div.sk-label:hover label.sk-toggleable__label {background-color: #d4ebff;}#sk-container-id-7 div.sk-serial::before {content: \"\";position: absolute;border-left: 1px solid gray;box-sizing: border-box;top: 0;bottom: 0;left: 50%;z-index: 0;}#sk-container-id-7 div.sk-serial {display: flex;flex-direction: column;align-items: center;background-color: white;padding-right: 0.2em;padding-left: 0.2em;position: relative;}#sk-container-id-7 div.sk-item {position: relative;z-index: 1;}#sk-container-id-7 div.sk-parallel {display: flex;align-items: stretch;justify-content: center;background-color: white;position: relative;}#sk-container-id-7 div.sk-item::before, #sk-container-id-7 div.sk-parallel-item::before {content: \"\";position: absolute;border-left: 1px solid gray;box-sizing: border-box;top: 0;bottom: 0;left: 50%;z-index: -1;}#sk-container-id-7 div.sk-parallel-item {display: flex;flex-direction: column;z-index: 1;position: relative;background-color: white;}#sk-container-id-7 div.sk-parallel-item:first-child::after {align-self: flex-end;width: 50%;}#sk-container-id-7 div.sk-parallel-item:last-child::after {align-self: flex-start;width: 50%;}#sk-container-id-7 div.sk-parallel-item:only-child::after {width: 0;}#sk-container-id-7 div.sk-dashed-wrapped {border: 1px dashed gray;margin: 0 0.4em 0.5em 0.4em;box-sizing: border-box;padding-bottom: 0.4em;background-color: white;}#sk-container-id-7 div.sk-label label {font-family: monospace;font-weight: bold;display: inline-block;line-height: 1.2em;}#sk-container-id-7 div.sk-label-container {text-align: center;}#sk-container-id-7 div.sk-container {/* jupyter's `normalize.less` sets `[hidden] { display: none; }` but bootstrap.min.css set `[hidden] { display: none !important; }` so we also need the `!important` here to be able to override the default hidden behavior on the sphinx rendered scikit-learn.org. See: https://github.com/scikit-learn/scikit-learn/issues/21755 */display: inline-block !important;position: relative;}#sk-container-id-7 div.sk-text-repr-fallback {display: none;}</style><div id=\"sk-container-id-7\" class=\"sk-top-container\"><div class=\"sk-text-repr-fallback\"><pre>LogisticRegression(random_state=69)</pre><b>In a Jupyter environment, please rerun this cell to show the HTML representation or trust the notebook. <br />On GitHub, the HTML representation is unable to render, please try loading this page with nbviewer.org.</b></div><div class=\"sk-container\" hidden><div class=\"sk-item\"><div class=\"sk-estimator sk-toggleable\"><input class=\"sk-toggleable__control sk-hidden--visually\" id=\"sk-estimator-id-7\" type=\"checkbox\" checked><label for=\"sk-estimator-id-7\" class=\"sk-toggleable__label sk-toggleable__label-arrow\">LogisticRegression</label><div class=\"sk-toggleable__content\"><pre>LogisticRegression(random_state=69)</pre></div></div></div></div></div>"
      ],
      "text/plain": [
       "LogisticRegression(random_state=69)"
      ]
     },
     "execution_count": 86,
     "metadata": {},
     "output_type": "execute_result"
    }
   ],
   "source": [
    "# Create a Logistic Regression model\n",
    "model_lr2 = LogisticRegression(random_state=69)\n",
    "\n",
    "# Train the model using the training sets\n",
    "model_lr2.fit(M_train_scaled, n_train)"
   ]
  },
  {
   "cell_type": "code",
   "execution_count": 105,
   "metadata": {},
   "outputs": [
    {
     "name": "stdout",
     "output_type": "stream",
     "text": [
      "[[ 0.0032551   0.03650756  0.10272123  1.05396269 -0.27449624  0.01422475\n",
      "   0.0219522   0.0483112  -0.05300241 -0.02659255 -0.07218584  0.00843068\n",
      "   0.09766473 -0.00565689 -0.0159416   0.0687827  -0.00787248 -0.01067498\n",
      "  -0.0169294   0.00540775 -0.0585399   0.05983305 -0.07797841 -0.0168632\n",
      "   0.07784045  0.00470416  0.0034317  -0.0034317   0.1751771  -0.1751771\n",
      "   0.06702494 -0.06702494  0.33427788  0.13028375 -0.42437635  0.09270358\n",
      "  -0.1083375   0.06584536  0.05421125 -0.15722166 -0.16430985  0.26199367\n",
      "   0.20257951 -0.02074665 -0.15206974  0.14269623  0.11882345 -0.05765438\n",
      "  -0.00574495  0.36796401 -0.11792354]]\n",
      "[-2.83124772]\n"
     ]
    }
   ],
   "source": [
    "# Print the coefficient and intercept of the logistic regression model\n",
    "print(model_lr2.coef_) \n",
    "print(model_lr2.intercept_)"
   ]
  },
  {
   "cell_type": "code",
   "execution_count": 122,
   "metadata": {},
   "outputs": [
    {
     "name": "stdout",
     "output_type": "stream",
     "text": [
      "Third Dataset : 0.9050427602477146\n",
      "[[11691   276]\n",
      " [ 1012   585]]\n",
      "Fourth Dataset 0.9013492590134926\n",
      "[[3905   95]\n",
      " [ 351  170]]\n"
     ]
    }
   ],
   "source": [
    "# Predict the response for test set and print the confusion matrix\n",
    "pred_lr_ = model_lr2.predict(M_test_scaled)\n",
    "acc_score_lr_ = accuracy_score(n_test, pred_lr_)\n",
    "print('Third Dataset :', acc_score_lr_)\n",
    "print(confusion_matrix(n_test, pred_lr_))\n",
    "\n",
    "# Predict the response test set and print the confusion matrix\n",
    "pred_lr_2 = model_lr2.predict(R_scaled)\n",
    "acc_score_lr_2 = accuracy_score(s_test, pred_lr_2)\n",
    "print('Fourth Dataset', acc_score_lr_2)\n",
    "print(confusion_matrix(s_test, pred_lr_2))"
   ]
  },
  {
   "cell_type": "code",
   "execution_count": 107,
   "metadata": {},
   "outputs": [
    {
     "name": "stdout",
     "output_type": "stream",
     "text": [
      "              precision    recall  f1-score   support\n",
      "\n",
      "           0       0.92      0.98      0.95     11967\n",
      "           1       0.68      0.37      0.48      1597\n",
      "\n",
      "    accuracy                           0.91     13564\n",
      "   macro avg       0.80      0.67      0.71     13564\n",
      "weighted avg       0.89      0.91      0.89     13564\n",
      "\n"
     ]
    }
   ],
   "source": [
    "# Print the classification report of the third dataset\n",
    "print(classification_report(n_test, pred_lr_))"
   ]
  },
  {
   "cell_type": "code",
   "execution_count": 114,
   "metadata": {},
   "outputs": [
    {
     "name": "stdout",
     "output_type": "stream",
     "text": [
      "              precision    recall  f1-score   support\n",
      "\n",
      "           0       0.92      0.98      0.95      4000\n",
      "           1       0.64      0.33      0.43       521\n",
      "\n",
      "    accuracy                           0.90      4521\n",
      "   macro avg       0.78      0.65      0.69      4521\n",
      "weighted avg       0.89      0.90      0.89      4521\n",
      "\n"
     ]
    }
   ],
   "source": [
    "# Print the classification report of the fourth dataset\n",
    "print(classification_report(s_test, pred_lr_2))"
   ]
  },
  {
   "cell_type": "markdown",
   "metadata": {},
   "source": [
    "#### 2. K-Nearest Neighbor"
   ]
  },
  {
   "cell_type": "markdown",
   "metadata": {},
   "source": [
    "> First and Second Dataset"
   ]
  },
  {
   "cell_type": "code",
   "execution_count": 32,
   "metadata": {},
   "outputs": [],
   "source": [
    "error = []\n",
    "\n",
    "# Calculating error for K values between 1 and 21\n",
    "for i in range(1,21):\n",
    "    knn = KNeighborsClassifier(n_neighbors=i)\n",
    "    knn.fit(X_train, y_train)\n",
    "    pred_i = knn.predict(X_test)\n",
    "    error.append(np.mean(pred_i != y_test))"
   ]
  },
  {
   "cell_type": "code",
   "execution_count": 33,
   "metadata": {},
   "outputs": [
    {
     "data": {
      "image/png": "[encoded data removed]",
      "text/plain": [
       "<Figure size 1000x400 with 1 Axes>"
      ]
     },
     "metadata": {},
     "output_type": "display_data"
    }
   ],
   "source": [
    "# Visualize the error results\n",
    "plt.figure(figsize=(10,4))\n",
    "plt.plot(range(1,21), error, color='grey', linestyle='-', marker='o',\n",
    "         markerfacecolor='green', markersize=10)\n",
    "plt.xticks(np.arange(0,21))\n",
    "plt.title('Error Rate K', fontsize=15)\n",
    "plt.xlabel('K')\n",
    "plt.ylabel('Error Mean')\n",
    "plt.show()"
   ]
  },
  {
   "cell_type": "markdown",
   "metadata": {},
   "source": [
    "It can be seen that K = 12 has the lowest error mean value. So, K = 12 was chosen for knn modeling this time."
   ]
  },
  {
   "cell_type": "code",
   "execution_count": 53,
   "metadata": {},
   "outputs": [
    {
     "name": "stdout",
     "output_type": "stream",
     "text": [
      "First Dataset : 0.9082301529497451\n",
      "[[10621   357]\n",
      " [  777   602]]\n",
      "Second Dataset 0.9230395727118232\n",
      "[[3571   97]\n",
      " [ 220  231]]\n"
     ]
    }
   ],
   "source": [
    "# Create a KNN Classifier model\n",
    "knn = KNeighborsClassifier(n_neighbors=12)\n",
    "\n",
    "# Train the model using training sets\n",
    "knn.fit(X_train, y_train)\n",
    "\n",
    "# Predict the response for test dataset and print the confusion matrix\n",
    "pred_knn = knn.predict(X_test)\n",
    "acc_score_knn = accuracy_score(y_test, pred_knn)\n",
    "print('First Dataset :', acc_score_knn)\n",
    "print(confusion_matrix(y_test, pred_knn))\n",
    "\n",
    "# Predict the response for test dataset and print the confusion matrix\n",
    "pred_knn2 = knn.predict(A_encoded)\n",
    "acc_score_knn2 = accuracy_score(b_test, pred_knn2)\n",
    "print('Second Dataset', acc_score_knn2)\n",
    "print(confusion_matrix(b_test, pred_knn2))"
   ]
  },
  {
   "cell_type": "code",
   "execution_count": 35,
   "metadata": {},
   "outputs": [
    {
     "name": "stdout",
     "output_type": "stream",
     "text": [
      "              precision    recall  f1-score   support\n",
      "\n",
      "           0       0.93      0.97      0.95     10978\n",
      "           1       0.63      0.44      0.51      1379\n",
      "\n",
      "    accuracy                           0.91     12357\n",
      "   macro avg       0.78      0.70      0.73     12357\n",
      "weighted avg       0.90      0.91      0.90     12357\n",
      "\n"
     ]
    }
   ],
   "source": [
    "# Print the classification report of the first dataset\n",
    "print(classification_report(y_test, pred_knn))"
   ]
  },
  {
   "cell_type": "code",
   "execution_count": 36,
   "metadata": {},
   "outputs": [
    {
     "name": "stdout",
     "output_type": "stream",
     "text": [
      "              precision    recall  f1-score   support\n",
      "\n",
      "           0       0.94      0.97      0.96      3668\n",
      "           1       0.70      0.51      0.59       451\n",
      "\n",
      "    accuracy                           0.92      4119\n",
      "   macro avg       0.82      0.74      0.78      4119\n",
      "weighted avg       0.92      0.92      0.92      4119\n",
      "\n"
     ]
    }
   ],
   "source": [
    "# Print the classification report of the second dataset\n",
    "print(classification_report(b_test, pred_knn2))"
   ]
  },
  {
   "cell_type": "markdown",
   "metadata": {},
   "source": [
    "> Third and Fourth Dataset"
   ]
  },
  {
   "cell_type": "code",
   "execution_count": 110,
   "metadata": {},
   "outputs": [],
   "source": [
    "error2 = []\n",
    "\n",
    "# Calculating error for K values between 1 and 21\n",
    "for i in range(1,21):\n",
    "    knn2 = KNeighborsClassifier(n_neighbors=i)\n",
    "    knn2.fit(M_train_scaled, n_train)\n",
    "    pred_i = knn2.predict(M_test_scaled)\n",
    "    error2.append(np.mean(pred_i != n_test))"
   ]
  },
  {
   "cell_type": "code",
   "execution_count": 111,
   "metadata": {},
   "outputs": [
    {
     "data": {
      "image/png": "[encoded data removed]",
      "text/plain": [
       "<Figure size 1000x400 with 1 Axes>"
      ]
     },
     "metadata": {},
     "output_type": "display_data"
    }
   ],
   "source": [
    "# Visualize the error results\n",
    "plt.figure(figsize=(10,4))\n",
    "plt.plot(range(1,21), error2, color='grey', linestyle='-', marker='o',\n",
    "         markerfacecolor='green', markersize=10)\n",
    "plt.xticks(np.arange(0,21))\n",
    "plt.title('Error Rate K', fontsize=15)\n",
    "plt.xlabel('K')\n",
    "plt.ylabel('Error Mean')\n",
    "plt.show()"
   ]
  },
  {
   "cell_type": "markdown",
   "metadata": {},
   "source": [
    "It can be seen that K = 13 has the lowest error mean value. So, K = 13 was chosen for knn modeling this time."
   ]
  },
  {
   "cell_type": "code",
   "execution_count": 115,
   "metadata": {},
   "outputs": [
    {
     "name": "stdout",
     "output_type": "stream",
     "text": [
      "Third Dataset : 0.897817752875258\n",
      "[[11727   240]\n",
      " [ 1146   451]]\n",
      "Second Dataset 0.9013492590134926\n",
      "[[3939   61]\n",
      " [ 385  136]]\n"
     ]
    }
   ],
   "source": [
    "# Create a KNN Classifier model\n",
    "knn2 = KNeighborsClassifier(n_neighbors=13)\n",
    "\n",
    "# Train the model using training sets\n",
    "knn2.fit(M_train_scaled, n_train)\n",
    "\n",
    "# Predict the response for test dataset and print the confusion matrix\n",
    "pred_knn_ = knn2.predict(M_test_scaled)\n",
    "acc_score_knn_ = accuracy_score(n_test, pred_knn_)\n",
    "print('Third Dataset :', acc_score_knn_)\n",
    "print(confusion_matrix(n_test, pred_knn_))\n",
    "\n",
    "# Predict the response for test dataset and print the confusion matrix\n",
    "pred_knn_2 = knn2.predict(R_scaled)\n",
    "acc_score_knn_2 = accuracy_score(s_test, pred_knn_2)\n",
    "print('Second Dataset', acc_score_knn_2)\n",
    "print(confusion_matrix(s_test, pred_knn_2))"
   ]
  },
  {
   "cell_type": "code",
   "execution_count": 116,
   "metadata": {},
   "outputs": [
    {
     "name": "stdout",
     "output_type": "stream",
     "text": [
      "              precision    recall  f1-score   support\n",
      "\n",
      "           0       0.91      0.98      0.94     11967\n",
      "           1       0.65      0.28      0.39      1597\n",
      "\n",
      "    accuracy                           0.90     13564\n",
      "   macro avg       0.78      0.63      0.67     13564\n",
      "weighted avg       0.88      0.90      0.88     13564\n",
      "\n"
     ]
    }
   ],
   "source": [
    "# Print the classification report of the third dataset\n",
    "print(classification_report(n_test, pred_knn_))"
   ]
  },
  {
   "cell_type": "code",
   "execution_count": 117,
   "metadata": {},
   "outputs": [
    {
     "name": "stdout",
     "output_type": "stream",
     "text": [
      "              precision    recall  f1-score   support\n",
      "\n",
      "           0       0.91      0.98      0.95      4000\n",
      "           1       0.69      0.26      0.38       521\n",
      "\n",
      "    accuracy                           0.90      4521\n",
      "   macro avg       0.80      0.62      0.66      4521\n",
      "weighted avg       0.89      0.90      0.88      4521\n",
      "\n"
     ]
    }
   ],
   "source": [
    "# Print the classification report of the fourth dataset\n",
    "print(classification_report(s_test, pred_knn_2))"
   ]
  },
  {
   "cell_type": "markdown",
   "metadata": {},
   "source": [
    "#### 3. Support Vector Machine (SVM)"
   ]
  },
  {
   "cell_type": "markdown",
   "metadata": {},
   "source": [
    "> First and Second Dataset"
   ]
  },
  {
   "cell_type": "code",
   "execution_count": 54,
   "metadata": {},
   "outputs": [
    {
     "name": "stdout",
     "output_type": "stream",
     "text": [
      "First Dataset : 0.9007849801731812\n",
      "[[10831   147]\n",
      " [ 1079   300]]\n",
      "Second Dataset : 0.9009468317552805\n",
      "[[3607   61]\n",
      " [ 347  104]]\n"
     ]
    }
   ],
   "source": [
    "# Create a SVM model\n",
    "SVM = svm.SVC()\n",
    "\n",
    "# Train the model using the training sets\n",
    "SVM.fit(X_train, y_train)\n",
    "\n",
    "# Predict the response for test dataset and print the confusion matrix\n",
    "pred_svm = SVM.predict(X_test)\n",
    "acc_score_svm = accuracy_score(y_test, pred_svm)\n",
    "print('First Dataset :', acc_score_svm)\n",
    "print(confusion_matrix(y_test, pred_svm))\n",
    "\n",
    "# Predict the response for test dataset and print the confusion matrix\n",
    "pred_svm2 = SVM.predict(A_encoded)\n",
    "acc_score_svm2 = accuracy_score(b_test, pred_svm2)\n",
    "print('Second Dataset :', acc_score_svm2)\n",
    "print(confusion_matrix(b_test, pred_svm2))"
   ]
  },
  {
   "cell_type": "code",
   "execution_count": 38,
   "metadata": {},
   "outputs": [
    {
     "name": "stdout",
     "output_type": "stream",
     "text": [
      "              precision    recall  f1-score   support\n",
      "\n",
      "           0       0.91      0.99      0.95     10978\n",
      "           1       0.67      0.22      0.33      1379\n",
      "\n",
      "    accuracy                           0.90     12357\n",
      "   macro avg       0.79      0.60      0.64     12357\n",
      "weighted avg       0.88      0.90      0.88     12357\n",
      "\n"
     ]
    }
   ],
   "source": [
    "# Print the classification report of the first dataset\n",
    "print(classification_report(y_test, pred_svm))"
   ]
  },
  {
   "cell_type": "code",
   "execution_count": 39,
   "metadata": {},
   "outputs": [
    {
     "name": "stdout",
     "output_type": "stream",
     "text": [
      "              precision    recall  f1-score   support\n",
      "\n",
      "           0       0.91      0.98      0.95      3668\n",
      "           1       0.63      0.23      0.34       451\n",
      "\n",
      "    accuracy                           0.90      4119\n",
      "   macro avg       0.77      0.61      0.64      4119\n",
      "weighted avg       0.88      0.90      0.88      4119\n",
      "\n"
     ]
    }
   ],
   "source": [
    "# Print the classification report of the second dataset\n",
    "print(classification_report(b_test, pred_svm2))"
   ]
  },
  {
   "cell_type": "markdown",
   "metadata": {},
   "source": [
    "> Third and Fourth Dataset"
   ]
  },
  {
   "cell_type": "code",
   "execution_count": 119,
   "metadata": {},
   "outputs": [
    {
     "name": "stdout",
     "output_type": "stream",
     "text": [
      "Third Dataset : 0.9046741374225892\n",
      "[[11722   245]\n",
      " [ 1048   549]]\n",
      "Fourth Dataset : 0.915947799159478\n",
      "[[3946   54]\n",
      " [ 326  195]]\n"
     ]
    }
   ],
   "source": [
    "# Create a SVM model\n",
    "SVM2 = svm.SVC()\n",
    "\n",
    "# Train the model using the training sets\n",
    "SVM2.fit(M_train_scaled, n_train)\n",
    "\n",
    "# Predict the response for test dataset and print the confusion matrix\n",
    "pred_svm_ = SVM2.predict(M_test_scaled)\n",
    "acc_score_svm_ = accuracy_score(n_test, pred_svm_)\n",
    "print('Third Dataset :', acc_score_svm_)\n",
    "print(confusion_matrix(n_test, pred_svm_))\n",
    "\n",
    "# Predict the response for test dataset and print the confusion matrix\n",
    "pred_svm_2 = SVM2.predict(R_scaled)\n",
    "acc_score_svm_2 = accuracy_score(s_test, pred_svm_2)\n",
    "print('Fourth Dataset :', acc_score_svm_2)\n",
    "print(confusion_matrix(s_test, pred_svm_2))"
   ]
  },
  {
   "cell_type": "code",
   "execution_count": 120,
   "metadata": {},
   "outputs": [
    {
     "name": "stdout",
     "output_type": "stream",
     "text": [
      "              precision    recall  f1-score   support\n",
      "\n",
      "           0       0.92      0.98      0.95     11967\n",
      "           1       0.69      0.34      0.46      1597\n",
      "\n",
      "    accuracy                           0.90     13564\n",
      "   macro avg       0.80      0.66      0.70     13564\n",
      "weighted avg       0.89      0.90      0.89     13564\n",
      "\n"
     ]
    }
   ],
   "source": [
    "# Print the classification report of the third dataset\n",
    "print(classification_report(n_test, pred_svm_))"
   ]
  },
  {
   "cell_type": "code",
   "execution_count": 127,
   "metadata": {},
   "outputs": [
    {
     "name": "stdout",
     "output_type": "stream",
     "text": [
      "              precision    recall  f1-score   support\n",
      "\n",
      "           0       0.92      0.99      0.95      4000\n",
      "           1       0.78      0.37      0.51       521\n",
      "\n",
      "    accuracy                           0.92      4521\n",
      "   macro avg       0.85      0.68      0.73      4521\n",
      "weighted avg       0.91      0.92      0.90      4521\n",
      "\n"
     ]
    }
   ],
   "source": [
    "# Print the classification report of the fourth dataset\n",
    "print(classification_report(s_test, pred_svm_2))"
   ]
  },
  {
   "cell_type": "markdown",
   "metadata": {},
   "source": [
    "#### 4. Decision Tree"
   ]
  },
  {
   "cell_type": "markdown",
   "metadata": {},
   "source": [
    "> First and Second Dataset"
   ]
  },
  {
   "cell_type": "code",
   "execution_count": 125,
   "metadata": {},
   "outputs": [
    {
     "name": "stdout",
     "output_type": "stream",
     "text": [
      "First Dataset : 0.8893744436351866\n",
      "[[10235   743]\n",
      " [  624   755]]\n",
      "Second Dataset : 0.9669822772517601\n",
      "[[3589   79]\n",
      " [  57  394]]\n"
     ]
    }
   ],
   "source": [
    "# Create a Decision Tree Classifier model\n",
    "dt = DecisionTreeClassifier()\n",
    "\n",
    "# Train the model using training sets\n",
    "dt.fit(X_train, y_train)\n",
    "\n",
    "# Predict the response for test dataset and print the confusion matrix\n",
    "pred_dt = dt.predict(X_test)\n",
    "acc_score_dt = accuracy_score(y_test, pred_dt)\n",
    "print('First Dataset :', acc_score_dt)\n",
    "print(confusion_matrix(y_test, pred_dt))\n",
    "\n",
    "# Predict the response for test dataset and print the confusion matrix\n",
    "pred_dt2 = dt.predict(A_encoded)\n",
    "acc_score_dt2 = accuracy_score(b_test, pred_dt2)\n",
    "print('Second Dataset :', acc_score_dt2)\n",
    "print(confusion_matrix(b_test, pred_dt2))"
   ]
  },
  {
   "cell_type": "code",
   "execution_count": 41,
   "metadata": {},
   "outputs": [
    {
     "name": "stdout",
     "output_type": "stream",
     "text": [
      "              precision    recall  f1-score   support\n",
      "\n",
      "           0       0.94      0.93      0.94     10978\n",
      "           1       0.51      0.55      0.53      1379\n",
      "\n",
      "    accuracy                           0.89     12357\n",
      "   macro avg       0.73      0.74      0.73     12357\n",
      "weighted avg       0.89      0.89      0.89     12357\n",
      "\n"
     ]
    }
   ],
   "source": [
    "# Print the classification report of the first dataset\n",
    "print(classification_report(y_test, pred_dt))"
   ]
  },
  {
   "cell_type": "code",
   "execution_count": 126,
   "metadata": {},
   "outputs": [
    {
     "name": "stdout",
     "output_type": "stream",
     "text": [
      "              precision    recall  f1-score   support\n",
      "\n",
      "           0       0.98      0.98      0.98      3668\n",
      "           1       0.83      0.87      0.85       451\n",
      "\n",
      "    accuracy                           0.97      4119\n",
      "   macro avg       0.91      0.93      0.92      4119\n",
      "weighted avg       0.97      0.97      0.97      4119\n",
      "\n"
     ]
    }
   ],
   "source": [
    "# Print the classification report of the second dataset\n",
    "print(classification_report(b_test, pred_dt2))"
   ]
  },
  {
   "cell_type": "markdown",
   "metadata": {},
   "source": [
    "> Third and Fourth Dataset"
   ]
  },
  {
   "cell_type": "code",
   "execution_count": 123,
   "metadata": {},
   "outputs": [
    {
     "name": "stdout",
     "output_type": "stream",
     "text": [
      "Third Dataset : 0.8774697729283397\n",
      "[[11124   843]\n",
      " [  819   778]]\n",
      "Fourth Dataset : 0.9659367396593674\n",
      "[[3916   84]\n",
      " [  70  451]]\n"
     ]
    }
   ],
   "source": [
    "# Create a Decision Tree Classifier model\n",
    "dt2 = DecisionTreeClassifier()\n",
    "\n",
    "# Train the model using training sets\n",
    "dt2.fit(M_train_scaled, n_train)\n",
    "\n",
    "# Predict the response for test dataset and print the confusion matrix\n",
    "pred_dt_ = dt2.predict(M_test_scaled)\n",
    "acc_score_dt_ = accuracy_score(n_test, pred_dt_)\n",
    "print('Third Dataset :', acc_score_dt_)\n",
    "print(confusion_matrix(n_test, pred_dt_))\n",
    "\n",
    "# Predict the response for test dataset and print the confusion matrix\n",
    "pred_dt_2 = dt2.predict(R_scaled)\n",
    "acc_score_dt_2 = accuracy_score(s_test, pred_dt_2)\n",
    "print('Fourth Dataset :', acc_score_dt_2)\n",
    "print(confusion_matrix(s_test, pred_dt_2))"
   ]
  },
  {
   "cell_type": "code",
   "execution_count": 129,
   "metadata": {},
   "outputs": [
    {
     "name": "stdout",
     "output_type": "stream",
     "text": [
      "              precision    recall  f1-score   support\n",
      "\n",
      "           0       0.93      0.93      0.93     11967\n",
      "           1       0.48      0.49      0.48      1597\n",
      "\n",
      "    accuracy                           0.88     13564\n",
      "   macro avg       0.71      0.71      0.71     13564\n",
      "weighted avg       0.88      0.88      0.88     13564\n",
      "\n"
     ]
    }
   ],
   "source": [
    "# Print the classification report of the third dataset\n",
    "print(classification_report(n_test, pred_dt_))"
   ]
  },
  {
   "cell_type": "code",
   "execution_count": 128,
   "metadata": {},
   "outputs": [
    {
     "name": "stdout",
     "output_type": "stream",
     "text": [
      "              precision    recall  f1-score   support\n",
      "\n",
      "           0       0.98      0.98      0.98      4000\n",
      "           1       0.84      0.87      0.85       521\n",
      "\n",
      "    accuracy                           0.97      4521\n",
      "   macro avg       0.91      0.92      0.92      4521\n",
      "weighted avg       0.97      0.97      0.97      4521\n",
      "\n"
     ]
    }
   ],
   "source": [
    "# Print the classification report of the fourth dataset\n",
    "print(classification_report(s_test, pred_dt_2))"
   ]
  },
  {
   "cell_type": "markdown",
   "metadata": {},
   "source": [
    "#### 5. Random Forest"
   ]
  },
  {
   "cell_type": "markdown",
   "metadata": {},
   "source": [
    "> First and Second Dataset"
   ]
  },
  {
   "cell_type": "code",
   "execution_count": 56,
   "metadata": {},
   "outputs": [
    {
     "name": "stdout",
     "output_type": "stream",
     "text": [
      "First Dataset : 0.9114671845917294\n",
      "[[10643   335]\n",
      " [  759   620]]\n",
      "Second Dataset : 0.9764505948045642\n",
      "[[3638   30]\n",
      " [  67  384]]\n"
     ]
    }
   ],
   "source": [
    "# Create a Random Forest Classifier model\n",
    "rf = RandomForestClassifier()\n",
    "\n",
    "# Train the model using training sets\n",
    "rf.fit(X_train, y_train)\n",
    "\n",
    "# Predict the response for test dataset and print the confusion matrix\n",
    "pred_rf = rf.predict(X_test)\n",
    "acc_score_rf = accuracy_score(y_test, pred_rf)\n",
    "print('First Dataset :', acc_score_rf)\n",
    "print(confusion_matrix(y_test, pred_rf))\n",
    "\n",
    "# Predict the response for test dataset and print the confusion matrix\n",
    "pred_rf2 = rf.predict(A_encoded)\n",
    "acc_score_rf2 = accuracy_score(b_test, pred_rf2)\n",
    "print('Second Dataset :', acc_score_rf2)\n",
    "print(confusion_matrix(b_test, pred_rf2))"
   ]
  },
  {
   "cell_type": "code",
   "execution_count": 44,
   "metadata": {},
   "outputs": [
    {
     "name": "stdout",
     "output_type": "stream",
     "text": [
      "              precision    recall  f1-score   support\n",
      "\n",
      "           0       0.93      0.97      0.95     10978\n",
      "           1       0.64      0.45      0.53      1379\n",
      "\n",
      "    accuracy                           0.91     12357\n",
      "   macro avg       0.79      0.71      0.74     12357\n",
      "weighted avg       0.90      0.91      0.90     12357\n",
      "\n"
     ]
    }
   ],
   "source": [
    "# Print the classification report of the first dataset\n",
    "print(classification_report(y_test, pred_rf))"
   ]
  },
  {
   "cell_type": "code",
   "execution_count": 45,
   "metadata": {},
   "outputs": [
    {
     "name": "stdout",
     "output_type": "stream",
     "text": [
      "              precision    recall  f1-score   support\n",
      "\n",
      "           0       0.98      0.99      0.99      3668\n",
      "           1       0.93      0.86      0.89       451\n",
      "\n",
      "    accuracy                           0.98      4119\n",
      "   macro avg       0.96      0.92      0.94      4119\n",
      "weighted avg       0.98      0.98      0.98      4119\n",
      "\n"
     ]
    }
   ],
   "source": [
    "# Print the classification report of the second dataset\n",
    "print(classification_report(b_test, pred_rf2))"
   ]
  },
  {
   "cell_type": "markdown",
   "metadata": {},
   "source": [
    "> Third and Fourth Dataset"
   ]
  },
  {
   "cell_type": "code",
   "execution_count": 131,
   "metadata": {},
   "outputs": [
    {
     "name": "stdout",
     "output_type": "stream",
     "text": [
      "Third Dataset : 0.9090976113240932\n",
      "[[11664   303]\n",
      " [  930   667]]\n",
      "Fourth Dataset : 0.9732360097323601\n",
      "[[3972   28]\n",
      " [  93  428]]\n"
     ]
    }
   ],
   "source": [
    "# Create a Random Forest Classifier model\n",
    "rf2 = RandomForestClassifier()\n",
    "\n",
    "# Train the model using training sets\n",
    "rf2.fit(M_train_scaled, n_train)\n",
    "\n",
    "# Predict the response for test dataset and print the confusion matrix\n",
    "pred_rf_ = rf2.predict(M_test_scaled)\n",
    "acc_score_rf_ = accuracy_score(n_test, pred_rf_)\n",
    "print('Third Dataset :', acc_score_rf_)\n",
    "print(confusion_matrix(n_test, pred_rf_))\n",
    "\n",
    "# Predict the response for test dataset and print the confusion matrix\n",
    "pred_rf_2 = rf2.predict(R_scaled)\n",
    "acc_score_rf_2 = accuracy_score(s_test, pred_rf_2)\n",
    "print('Fourth Dataset :', acc_score_rf_2)\n",
    "print(confusion_matrix(s_test, pred_rf_2))"
   ]
  },
  {
   "cell_type": "code",
   "execution_count": 132,
   "metadata": {},
   "outputs": [
    {
     "name": "stdout",
     "output_type": "stream",
     "text": [
      "              precision    recall  f1-score   support\n",
      "\n",
      "           0       0.93      0.97      0.95     11967\n",
      "           1       0.69      0.42      0.52      1597\n",
      "\n",
      "    accuracy                           0.91     13564\n",
      "   macro avg       0.81      0.70      0.73     13564\n",
      "weighted avg       0.90      0.91      0.90     13564\n",
      "\n"
     ]
    }
   ],
   "source": [
    "# Print the classification report of the third dataset\n",
    "print(classification_report(n_test, pred_rf_))"
   ]
  },
  {
   "cell_type": "code",
   "execution_count": 133,
   "metadata": {},
   "outputs": [
    {
     "name": "stdout",
     "output_type": "stream",
     "text": [
      "              precision    recall  f1-score   support\n",
      "\n",
      "           0       0.98      0.99      0.98      4000\n",
      "           1       0.94      0.82      0.88       521\n",
      "\n",
      "    accuracy                           0.97      4521\n",
      "   macro avg       0.96      0.91      0.93      4521\n",
      "weighted avg       0.97      0.97      0.97      4521\n",
      "\n"
     ]
    }
   ],
   "source": [
    "# Print the classification report of the fourth dataset\n",
    "print(classification_report(s_test, pred_rf_2))"
   ]
  },
  {
   "cell_type": "markdown",
   "metadata": {},
   "source": [
    "#### 6. Naive Bayes"
   ]
  },
  {
   "cell_type": "markdown",
   "metadata": {},
   "source": [
    "> First and Second Dataset"
   ]
  },
  {
   "cell_type": "code",
   "execution_count": 58,
   "metadata": {},
   "outputs": [
    {
     "name": "stdout",
     "output_type": "stream",
     "text": [
      "First Dataset : 0.8643683742008578\n",
      "[[9991  987]\n",
      " [ 689  690]]\n",
      "Second Dataset : 0.8652585579024035\n",
      "[[3329  339]\n",
      " [ 216  235]]\n"
     ]
    }
   ],
   "source": [
    "# Create a Naive Bayes model\n",
    "nb = GaussianNB()\n",
    "\n",
    "# Train the model using training sets\n",
    "nb.fit(X_train, y_train)\n",
    "\n",
    "# Predict the response for test dataset and print the confusion matrix\n",
    "pred_nb = nb.predict(X_test)\n",
    "acc_score_nb = accuracy_score(y_test, pred_nb)\n",
    "print('First Dataset :', acc_score_nb)\n",
    "print(confusion_matrix(y_test, pred_nb))\n",
    "\n",
    "# Predict the response for test dataset and print the confusion matrix\n",
    "pred_nb2 = nb.predict(A_encoded)\n",
    "acc_score_nb2 = accuracy_score(b_test, pred_nb2)\n",
    "print('Second Dataset :', acc_score_nb2)\n",
    "print(confusion_matrix(b_test, pred_nb2))"
   ]
  },
  {
   "cell_type": "code",
   "execution_count": 47,
   "metadata": {},
   "outputs": [
    {
     "name": "stdout",
     "output_type": "stream",
     "text": [
      "              precision    recall  f1-score   support\n",
      "\n",
      "           0       0.94      0.91      0.92     10978\n",
      "           1       0.41      0.50      0.45      1379\n",
      "\n",
      "    accuracy                           0.86     12357\n",
      "   macro avg       0.67      0.71      0.69     12357\n",
      "weighted avg       0.88      0.86      0.87     12357\n",
      "\n"
     ]
    }
   ],
   "source": [
    "# Print the classification report of the first dataset\n",
    "print(classification_report(y_test, pred_nb))"
   ]
  },
  {
   "cell_type": "code",
   "execution_count": 48,
   "metadata": {},
   "outputs": [
    {
     "name": "stdout",
     "output_type": "stream",
     "text": [
      "              precision    recall  f1-score   support\n",
      "\n",
      "           0       0.94      0.91      0.92      3668\n",
      "           1       0.41      0.52      0.46       451\n",
      "\n",
      "    accuracy                           0.87      4119\n",
      "   macro avg       0.67      0.71      0.69      4119\n",
      "weighted avg       0.88      0.87      0.87      4119\n",
      "\n"
     ]
    }
   ],
   "source": [
    "# Print the classification report of the second dataset\n",
    "print(classification_report(b_test, pred_nb2))"
   ]
  },
  {
   "cell_type": "markdown",
   "metadata": {},
   "source": [
    "> Third and Fourth Dataset"
   ]
  },
  {
   "cell_type": "code",
   "execution_count": 134,
   "metadata": {},
   "outputs": [
    {
     "name": "stdout",
     "output_type": "stream",
     "text": [
      "Third Dataset : 0.8551312297257446\n",
      "[[10768  1199]\n",
      " [  766   831]]\n",
      "Fourth Dataset : 0.8489272284892723\n",
      "[[3585  415]\n",
      " [ 268  253]]\n"
     ]
    }
   ],
   "source": [
    "# Create a Naive Bayes model\n",
    "nb2 = GaussianNB()\n",
    "\n",
    "# Train the model using training sets\n",
    "nb2.fit(M_train_scaled, n_train)\n",
    "\n",
    "# Predict the response for test dataset and print the confusion matrix\n",
    "pred_nb_ = nb2.predict(M_test_scaled)\n",
    "acc_score_nb_ = accuracy_score(n_test, pred_nb_)\n",
    "print('Third Dataset :', acc_score_nb_)\n",
    "print(confusion_matrix(n_test, pred_nb_))\n",
    "\n",
    "# Predict the response for test dataset and print the confusion matrix\n",
    "pred_nb_2 = nb2.predict(R_scaled)\n",
    "acc_score_nb_2 = accuracy_score(s_test, pred_nb_2)\n",
    "print('Fourth Dataset :', acc_score_nb_2)\n",
    "print(confusion_matrix(s_test, pred_nb_2))"
   ]
  },
  {
   "cell_type": "code",
   "execution_count": 135,
   "metadata": {},
   "outputs": [
    {
     "name": "stdout",
     "output_type": "stream",
     "text": [
      "              precision    recall  f1-score   support\n",
      "\n",
      "           0       0.93      0.90      0.92     11967\n",
      "           1       0.41      0.52      0.46      1597\n",
      "\n",
      "    accuracy                           0.86     13564\n",
      "   macro avg       0.67      0.71      0.69     13564\n",
      "weighted avg       0.87      0.86      0.86     13564\n",
      "\n"
     ]
    }
   ],
   "source": [
    "# Print the classification report of the third dataset\n",
    "print(classification_report(n_test, pred_nb_))"
   ]
  },
  {
   "cell_type": "code",
   "execution_count": 137,
   "metadata": {},
   "outputs": [
    {
     "name": "stdout",
     "output_type": "stream",
     "text": [
      "              precision    recall  f1-score   support\n",
      "\n",
      "           0       0.93      0.90      0.91      4000\n",
      "           1       0.38      0.49      0.43       521\n",
      "\n",
      "    accuracy                           0.85      4521\n",
      "   macro avg       0.65      0.69      0.67      4521\n",
      "weighted avg       0.87      0.85      0.86      4521\n",
      "\n"
     ]
    }
   ],
   "source": [
    "# Print the classification report of the second dataset\n",
    "print(classification_report(s_test, pred_nb_2))"
   ]
  },
  {
   "cell_type": "markdown",
   "metadata": {},
   "source": [
    "### Plot the Accuracy Score to Compared"
   ]
  },
  {
   "cell_type": "markdown",
   "metadata": {},
   "source": [
    "> First and Second Dataset"
   ]
  },
  {
   "cell_type": "code",
   "execution_count": 62,
   "metadata": {},
   "outputs": [
    {
     "data": {
      "text/plain": [
       "{'Logistic Regression': 0.9095249656065388,\n",
       " 'KNN': 0.9082301529497451,\n",
       " 'SVM': 0.9007849801731812,\n",
       " 'DecisionTree': 0.8913975884114267,\n",
       " 'Random Forest': 0.9114671845917294,\n",
       " 'Gaussian': 0.8643683742008578}"
      ]
     },
     "execution_count": 62,
     "metadata": {},
     "output_type": "execute_result"
    }
   ],
   "source": [
    "# Collect the accuracy scores from the predictions using the first dataset into a dictionary\n",
    "acc_score_add_full = {'Logistic Regression':acc_score_lr, \n",
    "                       'KNN':acc_score_knn, \n",
    "                       'SVM':acc_score_svm, \n",
    "                       'DecisionTree':acc_score_dt, \n",
    "                       'Random Forest':acc_score_rf, \n",
    "                       'Gaussian':acc_score_nb\n",
    "                       }\n",
    "acc_score_add_full"
   ]
  },
  {
   "cell_type": "code",
   "execution_count": 63,
   "metadata": {},
   "outputs": [
    {
     "data": {
      "image/png": "[encoded data removed]",
      "text/plain": [
       "<Figure size 700x400 with 1 Axes>"
      ]
     },
     "metadata": {},
     "output_type": "display_data"
    }
   ],
   "source": [
    "# Separate the model name and accuracy\n",
    "model_names = list(acc_score_add_full.keys())\n",
    "accuracy_scores = list(acc_score_add_full.values())\n",
    "\n",
    "# Sort the models by accuracy (in descending order)\n",
    "sorted_model_names = [x for _, x in sorted(zip(accuracy_scores, model_names), reverse=True)]\n",
    "sorted_accuracy_scores = sorted(accuracy_scores, reverse=True)\n",
    "\n",
    "# Create visualization of acc_score_add_full\n",
    "plt.figure(figsize=(7, 4))\n",
    "sns.barplot(x=sorted_accuracy_scores, y=sorted_model_names, palette=\"viridis\")\n",
    "plt.xlabel('Accuracy')\n",
    "plt.title('Model Accuration (First Dataset)')\n",
    "plt.show()"
   ]
  },
  {
   "cell_type": "code",
   "execution_count": 60,
   "metadata": {},
   "outputs": [
    {
     "data": {
      "text/plain": [
       "{'Logistic Regression': 0.9147851420247632,\n",
       " 'KNN': 0.9230395727118232,\n",
       " 'SVM': 0.9009468317552805,\n",
       " 'DecisionTree': 0.969895605729546,\n",
       " 'Random Forest': 0.9764505948045642,\n",
       " 'Gaussian': 0.8652585579024035}"
      ]
     },
     "execution_count": 60,
     "metadata": {},
     "output_type": "execute_result"
    }
   ],
   "source": [
    "# Collect the accuracy scores from the predictions using the second dataset into a dictionary. \n",
    "acc_score_add = {'Logistic Regression':acc_score_lr2, \n",
    "                       'KNN':acc_score_knn2, \n",
    "                       'SVM':acc_score_svm2, \n",
    "                       'DecisionTree':acc_score_dt2, \n",
    "                       'Random Forest':acc_score_rf2, \n",
    "                       'Gaussian':acc_score_nb2\n",
    "                       }\n",
    "acc_score_add"
   ]
  },
  {
   "cell_type": "code",
   "execution_count": 61,
   "metadata": {},
   "outputs": [
    {
     "data": {
      "image/png": "[encoded data removed]",
      "text/plain": [
       "<Figure size 700x400 with 1 Axes>"
      ]
     },
     "metadata": {},
     "output_type": "display_data"
    }
   ],
   "source": [
    "# Separate the model name and accuracy\n",
    "model_names = list(acc_score_add.keys())\n",
    "accuracy_scores = list(acc_score_add.values())\n",
    "\n",
    "# Sort the models by accuracy (in descending order)\n",
    "sorted_model_names = [x for _, x in sorted(zip(accuracy_scores, model_names), reverse=True)]\n",
    "sorted_accuracy_scores = sorted(accuracy_scores, reverse=True)\n",
    "\n",
    "# Create visualization of acc_score_add\n",
    "plt.figure(figsize=(7, 4))\n",
    "sns.barplot(x=sorted_accuracy_scores, y=sorted_model_names, palette=\"viridis\")\n",
    "plt.xlabel('Accuracy')\n",
    "plt.title('Model Accuration (Second Dataset)')\n",
    "plt.show()"
   ]
  },
  {
   "cell_type": "markdown",
   "metadata": {},
   "source": [
    "> Third and Fourth Dataset"
   ]
  },
  {
   "cell_type": "code",
   "execution_count": 138,
   "metadata": {},
   "outputs": [
    {
     "data": {
      "text/plain": [
       "{'Logistic Regression': 0.9050427602477146,\n",
       " 'KNN': 0.897817752875258,\n",
       " 'SVM': 0.9046741374225892,\n",
       " 'DecisionTree': 0.8774697729283397,\n",
       " 'Random Forest': 0.9090976113240932,\n",
       " 'Gaussian': 0.8551312297257446}"
      ]
     },
     "execution_count": 138,
     "metadata": {},
     "output_type": "execute_result"
    }
   ],
   "source": [
    "# Collect the accuracy scores from the predictions using the third dataset into a dictionary\n",
    "acc_score_bank_full = {'Logistic Regression':acc_score_lr_, \n",
    "                       'KNN':acc_score_knn_, \n",
    "                       'SVM':acc_score_svm_, \n",
    "                       'DecisionTree':acc_score_dt_, \n",
    "                       'Random Forest':acc_score_rf_, \n",
    "                       'Gaussian':acc_score_nb_\n",
    "                       }\n",
    "acc_score_bank_full"
   ]
  },
  {
   "cell_type": "code",
   "execution_count": 140,
   "metadata": {},
   "outputs": [
    {
     "data": {
      "image/png": "[encoded data removed]",
      "text/plain": [
       "<Figure size 700x400 with 1 Axes>"
      ]
     },
     "metadata": {},
     "output_type": "display_data"
    }
   ],
   "source": [
    "# Separate the model name and accuracy\n",
    "model_names = list(acc_score_bank_full.keys())\n",
    "accuracy_scores = list(acc_score_bank_full.values())\n",
    "\n",
    "# Sort the models by accuracy (in descending order)\n",
    "sorted_model_names = [x for _, x in sorted(zip(accuracy_scores, model_names), reverse=True)]\n",
    "sorted_accuracy_scores = sorted(accuracy_scores, reverse=True)\n",
    "\n",
    "# Create visualization of acc_score_add_full\n",
    "plt.figure(figsize=(7, 4))\n",
    "sns.barplot(x=sorted_accuracy_scores, y=sorted_model_names, palette=\"Set1\")\n",
    "plt.xlabel('Accuracy')\n",
    "plt.title('Model Accuration (Third Dataset)')\n",
    "plt.show()"
   ]
  },
  {
   "cell_type": "code",
   "execution_count": 141,
   "metadata": {},
   "outputs": [
    {
     "data": {
      "text/plain": [
       "{'Logistic Regression': 0.9013492590134926,\n",
       " 'KNN': 0.9013492590134926,\n",
       " 'SVM': 0.915947799159478,\n",
       " 'DecisionTree': 0.9659367396593674,\n",
       " 'Random Forest': 0.9732360097323601,\n",
       " 'Gaussian': 0.8489272284892723}"
      ]
     },
     "execution_count": 141,
     "metadata": {},
     "output_type": "execute_result"
    }
   ],
   "source": [
    "# Collect the accuracy scores from the predictions using the second dataset into a dictionary. \n",
    "acc_score_bank = {'Logistic Regression':acc_score_lr_2, \n",
    "                       'KNN':acc_score_knn_2, \n",
    "                       'SVM':acc_score_svm_2, \n",
    "                       'DecisionTree':acc_score_dt_2, \n",
    "                       'Random Forest':acc_score_rf_2, \n",
    "                       'Gaussian':acc_score_nb_2\n",
    "                       }\n",
    "acc_score_bank"
   ]
  },
  {
   "cell_type": "code",
   "execution_count": 142,
   "metadata": {},
   "outputs": [
    {
     "data": {
      "image/png": "[encoded data removed]",
      "text/plain": [
       "<Figure size 700x400 with 1 Axes>"
      ]
     },
     "metadata": {},
     "output_type": "display_data"
    }
   ],
   "source": [
    "# Separate the model name and accuracy\n",
    "model_names = list(acc_score_bank.keys())\n",
    "accuracy_scores = list(acc_score_bank.values())\n",
    "\n",
    "# Sort the models by accuracy (in descending order)\n",
    "sorted_model_names = [x for _, x in sorted(zip(accuracy_scores, model_names), reverse=True)]\n",
    "sorted_accuracy_scores = sorted(accuracy_scores, reverse=True)\n",
    "\n",
    "# Create visualization of acc_score_add_full\n",
    "plt.figure(figsize=(7, 4))\n",
    "sns.barplot(x=sorted_accuracy_scores, y=sorted_model_names, palette=\"Set1\")\n",
    "plt.xlabel('Accuracy')\n",
    "plt.title('Model Accuration (Fourth Dataset)')\n",
    "plt.show()"
   ]
  },
  {
   "cell_type": "markdown",
   "metadata": {},
   "source": [
    "### Conclusion: Algorithm Analysis\n",
    "\n",
    "The choice of the best algorithm will largely depend on our context and goals. Each algorithm has its advantages and disadvantages, and its performance may very depending on the characteristics of the data used. \n",
    "\n",
    "In the comparison of the above accuracy results for the first-second and third-fourth datasets , it was decided to consider using the Random Forest algorithm to create a model. Here are general considerations:\n",
    "> 1. The Random Forest model successfully performed well on both datasets. \n",
    "> 2. In the second and fourth dataset, the model was able to provide predictions with very high accuracy and maintain a balance between detecting positive and negative cases.\n",
    "\n",
    "Keep in mind that there is no \"one-size-fits-all\" in model selection. Sometimes, even a combination of several models or data preprocessing techniques may be required to achieve the best results. Therefore, it is important to consider the objectives, data characteristics, and results from cross-validation and model evaluation throughly before making a final decision.\n",
    "\n"
   ]
  }
 ],
 "metadata": {
  "kernelspec": {
   "display_name": "hacktiv8-python",
   "language": "python",
   "name": "python3"
  },
  "language_info": {
   "codemirror_mode": {
    "name": "ipython",
    "version": 3
   },
   "file_extension": ".py",
   "mimetype": "text/x-python",
   "name": "python",
   "nbconvert_exporter": "python",
   "pygments_lexer": "ipython3",
   "version": "3.11.5"
  }
 },
 "nbformat": 4,
 "nbformat_minor": 2
}
